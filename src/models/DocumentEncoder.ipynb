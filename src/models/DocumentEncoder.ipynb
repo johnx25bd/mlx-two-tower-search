{
 "cells": [
  {
   "cell_type": "markdown",
   "metadata": {},
   "source": [
    "# Document Encoder Model\n",
    "- based on word2vec embeddings from gensim\n",
    "- use a simple average of the word embeddings as the document embedding\n",
    "- use a simple feedforward neural network as the encoder\n"
   ]
  },
  {
   "cell_type": "code",
   "execution_count": 37,
   "metadata": {},
   "outputs": [],
   "source": [
    "\n",
    "import torch\n",
    "import numpy as np\n",
    "import torch.nn as nn\n",
    "import torch.optim as optim\n",
    "import gensim\n",
    "import pandas as pd\n",
    "import gensim.downloader as api\n",
    "import matplotlib.pyplot as plt\n",
    "from sklearn.decomposition import PCA\n",
    "from torch.utils.data import Dataset\n",
    "from torch.nn.utils.rnn import pad_sequence\n"
   ]
  },
  {
   "cell_type": "code",
   "execution_count": 2,
   "metadata": {},
   "outputs": [
    {
     "name": "stderr",
     "output_type": "stream",
     "text": [
      "[nltk_data] Downloading package stopwords to /Users/x25bd/nltk_data...\n",
      "[nltk_data]   Package stopwords is already up-to-date!\n",
      "[nltk_data] Downloading package punkt to /Users/x25bd/nltk_data...\n",
      "[nltk_data]   Package punkt is already up-to-date!\n"
     ]
    }
   ],
   "source": [
    "import sys\n",
    "import os\n",
    "sys.path.append(os.path.abspath(os.path.join(os.getcwd(), '..')))\n",
    "\n",
    "from utils.preprocess_str import preprocess_list as preprocess"
   ]
  },
  {
   "cell_type": "code",
   "execution_count": 3,
   "metadata": {},
   "outputs": [],
   "source": [
    "random_seed = 42  # You can choose any integer value\n",
    "pd.set_option('mode.chained_assignment', None)  # Suppress SettingWithCopyWarning\n",
    "np.random.seed(random_seed)"
   ]
  },
  {
   "cell_type": "code",
   "execution_count": 4,
   "metadata": {},
   "outputs": [],
   "source": [
    "#PREPROCESS text8\n",
    "raw_corpus = api.load('text8')"
   ]
  },
  {
   "cell_type": "code",
   "execution_count": 5,
   "metadata": {},
   "outputs": [],
   "source": [
    "corpus = [preprocess(doc) for doc in raw_corpus]"
   ]
  },
  {
   "cell_type": "code",
   "execution_count": 6,
   "metadata": {},
   "outputs": [],
   "source": [
    "w2v = gensim.models.Word2Vec(corpus, vector_size=100, window=5, min_count=3, workers=4)\n",
    "w2v.save('./word2vec/word2vec-gensim-text8-custom-preprocess.model')"
   ]
  },
  {
   "cell_type": "code",
   "execution_count": 7,
   "metadata": {},
   "outputs": [
    {
     "name": "stdout",
     "output_type": "stream",
     "text": [
      "torch.Size([74792, 100])\n"
     ]
    }
   ],
   "source": [
    "# Load the word2vec model, extract embeddings, convert to torch tensor\n",
    "# w2v = gensim.models.Word2Vec.load('./word2vec/word2vec-gensim-text8-custom-preprocess.model')\n",
    "vocab = w2v.wv.index_to_key\n",
    "word_to_idx = {word: i for i, word in enumerate(vocab)}\n",
    "embeddings_array = np.array([w2v.wv[word] for word in vocab])\n",
    "embeddings = torch.tensor(embeddings_array, dtype=torch.float32)\n",
    "print(embeddings.shape)"
   ]
  },
  {
   "cell_type": "code",
   "execution_count": 10,
   "metadata": {},
   "outputs": [],
   "source": [
    "embedding_layer = nn.Embedding.from_pretrained(embeddings, freeze=True)\n",
    "word_index = torch.tensor([word_to_idx['north']], dtype=torch.long)\n"
   ]
  },
  {
   "cell_type": "code",
   "execution_count": 17,
   "metadata": {},
   "outputs": [],
   "source": [
    "df = pd.read_parquet('../data/training.parquet')\n",
    "df = df.sample(n=10000, random_state=random_seed)"
   ]
  },
  {
   "cell_type": "code",
   "execution_count": 18,
   "metadata": {},
   "outputs": [],
   "source": [
    "df = df[['document', 'query', 'relevance']].copy()\n",
    "df.reset_index(inplace=True)\n"
   ]
  },
  {
   "cell_type": "code",
   "execution_count": 21,
   "metadata": {},
   "outputs": [],
   "source": [
    "def str_to_tokens(s):\n",
    "    split = preprocess(s)\n",
    "    return [word_to_idx[word] for word in split if word in word_to_idx]\n",
    "\n"
   ]
  },
  {
   "cell_type": "code",
   "execution_count": 22,
   "metadata": {},
   "outputs": [],
   "source": [
    "df.loc[:, 'document_tokens'] = df['document'].apply(str_to_tokens)\n",
    "df.loc[:, 'query_tokens'] = df['query'].apply(str_to_tokens)\n"
   ]
  },
  {
   "cell_type": "code",
   "execution_count": 24,
   "metadata": {},
   "outputs": [],
   "source": [
    "df['query_length'] = df['query_tokens'].apply(len)\n",
    "df['document_length'] = df['document_tokens'].apply(len)\n",
    "\n"
   ]
  },
  {
   "cell_type": "code",
   "execution_count": 34,
   "metadata": {},
   "outputs": [
    {
     "name": "stdout",
     "output_type": "stream",
     "text": [
      "SEQ_LENGTH: ~30\n"
     ]
    },
    {
     "data": {
      "image/png": "[encoded data removed]",
      "text/plain": [
       "<Figure size 1000x500 with 2 Axes>"
      ]
     },
     "metadata": {},
     "output_type": "display_data"
    }
   ],
   "source": [
    "df[['query_length']].hist(bins=100, layout=(2,1 ), figsize=(10, 5))\n",
    "print('SEQ_LENGTH: ~30')\n"
   ]
  },
  {
   "cell_type": "code",
   "execution_count": 53,
   "metadata": {},
   "outputs": [],
   "source": [
    "def embed_tokens(tokens):\n",
    "    embed_tensor = [torch.tensor(embedding_layer(torch.tensor(t, dtype=torch.long)), dtype=torch.float32) for t in tokens]\n",
    "    embed_tensor = torch.stack(embed_tensor)\n",
    "    return embed_tensor\n",
    "\n"
   ]
  },
  {
   "cell_type": "code",
   "execution_count": 38,
   "metadata": {},
   "outputs": [],
   "source": [
    "class DocumentDataset(Dataset):\n",
    "    def __init__(self, df_input):\n",
    "        self.documents = df_input['document_tokens']\n",
    "        self.queries = df_input['query_tokens']\n",
    "        self.labels = df_input['relevance']\n",
    "\n",
    "    def __len__(self):\n",
    "        return len(self.documents)\n",
    "    \n",
    "    def __getitem__(self, idx):\n",
    "        return (\n",
    "            torch.tensor(self.documents.iloc[idx], dtype=torch.long),\n",
    "            torch.tensor(self.queries.iloc[idx], dtype=torch.long),\n",
    "            torch.tensor(self.labels.iloc[idx], dtype=torch.float32),\n",
    "        )\n",
    "\n"
   ]
  },
  {
   "cell_type": "code",
   "execution_count": 39,
   "metadata": {},
   "outputs": [],
   "source": [
    "def collate(batch):\n",
    "    docs, queries, labels = zip(*batch)\n",
    "    docs = pad_sequence(docs, batch_first=True, padding_value=0)\n",
    "    queries = pad_sequence(queries, batch_first=True, padding_value=0)\n",
    "\n",
    "    # Create masks\n",
    "    doc_mask = (docs != 0).float()\n",
    "    query_mask = (queries != 0).float()\n",
    "    labels = torch.tensor(labels, dtype=torch.float32)\n",
    "    return docs, queries, doc_mask, query_mask, labels\n",
    "\n",
    "\n",
    "train_dataset = DocumentDataset(df, df['relevance'])\n",
    "# train_loader = DataLoader(train_dataset, batch_size=32, shuffle=True, collate_fn=collate)\n"
   ]
  },
  {
   "cell_type": "code",
   "execution_count": 40,
   "metadata": {},
   "outputs": [
    {
     "data": {
      "text/plain": [
       "(tensor([ 1133,    62,   222,   122,   270,   142,   222,    28,   270,    62,\n",
       "           222, 30630,   308,   263,    62,    62,   222,   330,    72,    62,\n",
       "           122,   543,   263,   263,   224,    62,   107,   222,    28,   270,\n",
       "            62,   222,   122, 42359,    72,    62,   543,   122,   142,   107,\n",
       "           543,   122,   308,    62,    72,   263,   122,    72,    62,   122,\n",
       "           263,   330,    62,   142,    62,   543,   222,    62,    62,   222,\n",
       "           107,   142,   263,    62,    28,   270,    62,   222,   122,    72,\n",
       "           263,   122,   112,    62,   122,   122,   263,   330,    62,   543,\n",
       "           222,   222,    28,   107, 42359,   142,   107,    72,   263,   122,\n",
       "           112,    62,   112,    62,   122,    62,   543,   263,   330,    62,\n",
       "           222,   112,   543,   222,   222,   122,   543,   263,   122,   122,\n",
       "           122,    72,    62,    28,   270,    62,   222,   263,   107,   270,\n",
       "           270,    62,   222, 30630,    72,    28,    28,   270,    62,   222,\n",
       "           107,    62,   222,    62,   263,   122,   122,   263,    62,   222,\n",
       "            28,   270,    62,   222,    28,    62,    72,   107,    62,   142,\n",
       "            72,   122,   122,    62,   122, 30630,   263,    62,    62,    77,\n",
       "            72,   263,   122,   112,    62,   222,   222,    62,   224,   270,\n",
       "            72,    62,    62,   122,   107,   263,   330,    62,    72,   122,\n",
       "            62,   222,   112,    62,   122,   263,   224,    62,   142,   107,\n",
       "           122,  1134]),\n",
       " tensor([1133,  543,  263,  142,  270,  107,   77,   62,  122,   62,  107,   62,\n",
       "          142,  222, 1134]),\n",
       " tensor(0.))"
      ]
     },
     "execution_count": 40,
     "metadata": {},
     "output_type": "execute_result"
    }
   ],
   "source": [
    "df.loc[0, 'document_tokens']\n"
   ]
  },
  {
   "cell_type": "code",
   "execution_count": null,
   "metadata": {},
   "outputs": [],
   "source": [
    "df.loc[:, 'document_embeddings'] = df.loc[:, 'document_tokens'].apply(embed_tokens)\n",
    "df.head()\n"
   ]
  },
  {
   "cell_type": "code",
   "execution_count": null,
   "metadata": {},
   "outputs": [],
   "source": []
  },
  {
   "cell_type": "code",
   "execution_count": null,
   "metadata": {},
   "outputs": [],
   "source": [
    "df[(df['query_length'] > 0) & (df['document_length'] > 0)]"
   ]
  },
  {
   "cell_type": "code",
   "execution_count": null,
   "metadata": {},
   "outputs": [],
   "source": [
    "df.loc[:, 'query_embeddings'] = df.loc[:, 'query_tokens'].apply(embed_tokens)"
   ]
  },
  {
   "cell_type": "code",
   "execution_count": null,
   "metadata": {},
   "outputs": [],
   "source": []
  }
 ],
 "metadata": {
  "kernelspec": {
   "display_name": "env",
   "language": "python",
   "name": "python3"
  },
  "language_info": {
   "codemirror_mode": {
    "name": "ipython",
    "version": 3
   },
   "file_extension": ".py",
   "mimetype": "text/x-python",
   "name": "python",
   "nbconvert_exporter": "python",
   "pygments_lexer": "ipython3",
   "version": "3.12.7"
  }
 },
 "nbformat": 4,
 "nbformat_minor": 2
}
