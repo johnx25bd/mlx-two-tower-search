{
 "cells": [
  {
   "cell_type": "markdown",
   "metadata": {},
   "source": [
    "# Two Towers Model\n",
    "- based on word2vec embeddings from gensim\n",
    "- use a simple average of the word embeddings as the document embedding\n",
    "- use a simple feedforward neural network as the encoder\n"
   ]
  },
  {
   "cell_type": "code",
   "execution_count": 1,
   "metadata": {},
   "outputs": [],
   "source": [
    "%load_ext autoreload\n",
    "%autoreload 2\n"
   ]
  },
  {
   "cell_type": "code",
   "execution_count": 2,
   "metadata": {},
   "outputs": [
    {
     "name": "stderr",
     "output_type": "stream",
     "text": [
      "[nltk_data] Downloading package stopwords to /Users/x25bd/nltk_data...\n",
      "[nltk_data]   Package stopwords is already up-to-date!\n",
      "[nltk_data] Downloading package punkt to /Users/x25bd/nltk_data...\n",
      "[nltk_data]   Package punkt is already up-to-date!\n"
     ]
    }
   ],
   "source": [
    "# Import Libraries\n",
    "import os\n",
    "import sys\n",
    "\n",
    "import numpy as np\n",
    "import pandas as pd\n",
    "\n",
    "import torch\n",
    "import torch.nn as nn\n",
    "import torch.optim as optim\n",
    "import torch.nn.functional as F\n",
    "from torch.utils.data import DataLoader\n",
    "\n",
    "import wandb\n",
    "\n",
    "sys.path.append(os.path.abspath(os.path.join(os.getcwd(), '..')))\n",
    "\n",
    "from utils.collate import collate\n",
    "from utils.load_data import load_word2vec\n",
    "from utils.preprocess_str import str_to_tokens\n",
    "from utils.checkpoint import save_checkpoint\n",
    "from core import DocumentDataset, TwoTowerModel, loss_fn\n"
   ]
  },
  {
   "cell_type": "code",
   "execution_count": 3,
   "metadata": {},
   "outputs": [],
   "source": [
    "# import inspect\n",
    "# print(inspect.getsource(collate).split('\\n', 1)[1].strip())"
   ]
  },
  {
   "cell_type": "code",
   "execution_count": 4,
   "metadata": {},
   "outputs": [],
   "source": [
    "# import importlib\n",
    "# import utils.checkpoint\n",
    "\n",
    "# importlib.reload(utils.checkpoint)"
   ]
  },
  {
   "cell_type": "code",
   "execution_count": 26,
   "metadata": {},
   "outputs": [],
   "source": [
    "# Define HYPERPARAMETERS\n",
    "RANDOM_SEED = 42\n",
    "FREEZE_EMBEDDINGS = True\n",
    "VERBOSE = True\n",
    "HIDDEN_DIM = 128\n",
    "NUM_LAYERS = 1\n",
    "MARGIN = 0.5\n",
    "LEARNING_RATE = 0.00001\n",
    "NUM_EPOCHS = 3\n",
    "MODEL_NAME = \"mlx-w2-two-tower-search\"\n",
    "PROJECTION_DIM = 64\n",
    "\n"
   ]
  },
  {
   "cell_type": "code",
   "execution_count": 6,
   "metadata": {},
   "outputs": [],
   "source": [
    "# Load embeddings\n",
    "vocab,embeddings, word_to_idx = load_word2vec()\n",
    "embedding_layer = nn.Embedding.from_pretrained(embeddings, freeze=FREEZE_EMBEDDINGS)\n",
    "\n",
    "EMBEDDING_DIM = embeddings.shape[1]\n",
    "VOCAB_SIZE = len(vocab)"
   ]
  },
  {
   "cell_type": "code",
   "execution_count": 7,
   "metadata": {},
   "outputs": [],
   "source": [
    "# Load training data\n",
    "df = pd.read_parquet('../data/training.parquet')\n",
    "df_validation = pd.read_parquet('../data/validation.parquet')\n",
    "df_test = pd.read_parquet('../data/test.parquet')\n",
    "# df = df.sample(n=10000, random_state=RANDOM_SEED)"
   ]
  },
  {
   "cell_type": "code",
   "execution_count": 8,
   "metadata": {},
   "outputs": [],
   "source": [
    "def tokenize(df, word_to_idx):\n",
    "    # Tokenize\n",
    "    df.loc[:, 'doc_rel_tokens'] = df['doc_relevant'].apply(lambda x: str_to_tokens(x, word_to_idx))\n",
    "    df.loc[:, 'doc_irr_tokens'] = df['doc_irrelevant'].apply(lambda x: str_to_tokens(x, word_to_idx))\n",
    "    df.loc[:, 'query_tokens'] = df['query'].apply(lambda x: str_to_tokens(x, word_to_idx))\n",
    "    return df\n"
   ]
  },
  {
   "cell_type": "code",
   "execution_count": 9,
   "metadata": {},
   "outputs": [],
   "source": [
    "# Preprocess data\n",
    "\n",
    "df = tokenize(df, word_to_idx)\n",
    "# df['doc_rel_tkn_length'] = df['doc_rel_tokens'].apply(len)\n",
    "# df['doc_irr_tkn_length'] = df['doc_irr_tokens'].apply(len)\n",
    "# df['query_tkn_length'] = df['query_tokens'].apply(len)\n",
    "\n"
   ]
  },
  {
   "cell_type": "code",
   "execution_count": 11,
   "metadata": {},
   "outputs": [],
   "source": [
    "df_full = df.copy()"
   ]
  },
  {
   "cell_type": "code",
   "execution_count": 12,
   "metadata": {},
   "outputs": [],
   "source": [
    "df = df.sample(n=100000, random_state=RANDOM_SEED)\n"
   ]
  },
  {
   "cell_type": "code",
   "execution_count": 9,
   "metadata": {},
   "outputs": [
    {
     "data": {
      "image/png": "[encoded data removed]",
      "text/plain": [
       "<Figure size 300x300 with 2 Axes>"
      ]
     },
     "metadata": {},
     "output_type": "display_data"
    },
    {
     "data": {
      "image/png": "[encoded data removed]",
      "text/plain": [
       "<Figure size 1000x300 with 2 Axes>"
      ]
     },
     "metadata": {},
     "output_type": "display_data"
    },
    {
     "data": {
      "image/png": "[encoded data removed]",
      "text/plain": [
       "<Figure size 1000x300 with 2 Axes>"
      ]
     },
     "metadata": {},
     "output_type": "display_data"
    }
   ],
   "source": [
    "if VERBOSE:\n",
    "    df[['query_tkn_length']].hist(bins=100, layout=(2,1), figsize=(3, 3))\n",
    "    df[['doc_rel_tkn_length']].hist(bins=100, layout=(2,1), figsize=(10, 3))\n",
    "    df[['doc_irr_tkn_length']].hist(bins=100, layout=(2,1), figsize=(10, 3))"
   ]
  },
  {
   "cell_type": "code",
   "execution_count": 13,
   "metadata": {},
   "outputs": [],
   "source": [
    "\n",
    "# Create dataset and dataloader\n",
    "dataset = DocumentDataset(df_full)"
   ]
  },
  {
   "cell_type": "code",
   "execution_count": 14,
   "metadata": {},
   "outputs": [],
   "source": [
    "\n",
    "dataloader = DataLoader(dataset, batch_size=32, shuffle=False, collate_fn=collate)"
   ]
  },
  {
   "cell_type": "code",
   "execution_count": 42,
   "metadata": {},
   "outputs": [
    {
     "name": "stdout",
     "output_type": "stream",
     "text": [
      "Batch 1\n",
      "Relevant Documents shape: torch.Size([32, 71])\n",
      "Irrelevant Documents shape: torch.Size([32, 61])\n",
      "Queries shape: torch.Size([32, 9])\n",
      "Relevant Document mask shape: torch.Size([32, 71])\n",
      "Irrelevant Document mask shape: torch.Size([32, 61])\n",
      "Query mask shape: torch.Size([32, 9])\n"
     ]
    }
   ],
   "source": [
    "if VERBOSE:\n",
    "    i = 0\n",
    "    for docs_rel, docs_irr, queries, docs_rel_mask, docs_irr_mask, query_mask in dataloader:\n",
    "        print('Batch', i + 1)\n",
    "        print(\"Relevant Documents shape:\", docs_rel.shape)\n",
    "        print(\"Irrelevant Documents shape:\", docs_irr.shape)\n",
    "        print(\"Queries shape:\", queries.shape)\n",
    "        print(\"Relevant Document mask shape:\", docs_rel_mask.shape)\n",
    "        print(\"Irrelevant Document mask shape:\", docs_irr_mask.shape)\n",
    "        print(\"Query mask shape:\", query_mask.shape)\n",
    "\n",
    "        i += 1\n",
    "        if i > 0:\n",
    "            break  # Just print the first batch\n"
   ]
  },
  {
   "cell_type": "code",
   "execution_count": 27,
   "metadata": {},
   "outputs": [],
   "source": [
    "import importlib\n",
    "import core\n",
    "\n",
    "importlib.reload(core)\n",
    "from core import TwoTowerModel, DocumentDataset, loss_fn\n",
    "\n",
    "import utils.collate\n",
    "\n",
    "importlib.reload(utils.collate)\n",
    "from utils.collate import collate\n"
   ]
  },
  {
   "cell_type": "code",
   "execution_count": 49,
   "metadata": {},
   "outputs": [],
   "source": [
    "\n",
    "# Create model\n",
    "model = TwoTowerModel(embedding_dim=EMBEDDING_DIM, projection_dim=PROJECTION_DIM, embedding_layer=embedding_layer, margin=MARGIN)\n",
    "optimizer = optim.Adam(model.parameters(), lr=LEARNING_RATE)\n",
    "\n"
   ]
  },
  {
   "cell_type": "code",
   "execution_count": null,
   "metadata": {},
   "outputs": [],
   "source": [
    "if VERBOSE:\n",
    "    model.eval()\n",
    "    dataiter = iter(dataloader)\n",
    "    docs_rel, docs_irr, queries, docs_rel_mask, docs_irr_mask, query_mask = next(dataiter)\n",
    "\n",
    "    print(\"docs_rel.shape:\", docs_rel.shape)\n",
    "    print(\"docs_irr.shape:\", docs_irr.shape)\n",
    "    print(\"queries.shape:\", queries.shape)\n",
    "    print(\"docs_rel_mask.shape:\", docs_rel_mask.shape)\n",
    "    print(\"docs_irr_mask.shape:\", docs_irr_mask.shape)\n",
    "    print(\"query_mask.shape:\", query_mask.shape)\n",
    "\n",
    "    with torch.no_grad():\n",
    "        similarity_rel = model(docs_rel, queries, doc_mask=docs_rel_mask, query_mask=query_mask)\n",
    "        similarity_irr = model(docs_irr, queries, doc_mask=docs_irr_mask, query_mask=query_mask)\n",
    "    similarity_rel, similarity_irr\n",
    "\n",
    "    loss = loss_fn(similarity_rel, similarity_irr, MARGIN)\n",
    "    print(\"Loss:\", loss.item())"
   ]
  },
  {
   "cell_type": "markdown",
   "metadata": {},
   "source": [
    "## Model Training"
   ]
  },
  {
   "cell_type": "code",
   "execution_count": 29,
   "metadata": {},
   "outputs": [],
   "source": [
    "projection_dim_sweep = [24, 48, 96, 192]\n",
    "margin_sweep = [0.1, 0.4, 0.7, 1.0]\n",
    "lr_sweep = [LEARNING_RATE * i for i in [0.0001, 0.001, 0.01, 0.1, 1]]"
   ]
  },
  {
   "cell_type": "code",
   "execution_count": 18,
   "metadata": {},
   "outputs": [],
   "source": [
    "# import importlib\n",
    "# import wandb\n",
    "\n",
    "# importlib.reload(wandb)\n",
    "# import wandb\n"
   ]
  },
  {
   "cell_type": "code",
   "execution_count": null,
   "metadata": {},
   "outputs": [],
   "source": [
    "for projection_dim in projection_dim_sweep:\n",
    "    run_name = f\"avg_pooling_projection_dim_{projection_dim}_commit_3799989\"\n",
    "    model = TwoTowerModel(embedding_dim=EMBEDDING_DIM, \n",
    "                          projection_dim=projection_dim, \n",
    "                          embedding_layer=embedding_layer, \n",
    "                          margin=MARGIN)\n",
    "    optimizer = optim.Adam(model.parameters(), lr=LEARNING_RATE)\n",
    "\n",
    "    wandb.init(project=MODEL_NAME, name=run_name)\n",
    "    for epoch in range(NUM_EPOCHS):\n",
    "        print(f\"Epoch {epoch + 1} of {NUM_EPOCHS}\")\n",
    "        for batch_idx, batch in enumerate(dataloader):\n",
    "            if batch_idx % 1000 == 0:\n",
    "                print(f\"Batch {batch_idx + 1} of {len(dataloader)}\")\n",
    "            docs_rel, docs_irr, queries, docs_rel_mask, docs_irr_mask, query_mask = batch\n",
    "\n",
    "            similarity_rel = model(docs_rel, queries, doc_mask=docs_rel_mask, query_mask=query_mask)\n",
    "            similarity_irr = model(docs_irr, queries, doc_mask=docs_irr_mask, query_mask=query_mask)\n",
    "\n",
    "            loss = loss_fn(similarity_rel, similarity_irr, MARGIN)\n",
    "            optimizer.zero_grad()\n",
    "            loss.backward()\n",
    "            optimizer.step()\n",
    "            wandb.log({\"loss\": loss.item()})\n",
    "        save_checkpoint(model, epoch, run_name)\n",
    "    wandb.finish()\n"
   ]
  },
  {
   "cell_type": "code",
   "execution_count": null,
   "metadata": {},
   "outputs": [],
   "source": [
    "for margin in margin_sweep:\n",
    "    run_name = f\"avg_pooling_margin_{margin}_commit_3799989\"\n",
    "    model = TwoTowerModel(embedding_dim=EMBEDDING_DIM, projection_dim=PROJECTION_DIM, embedding_layer=embedding_layer, margin=margin)\n",
    "    optimizer = optim.Adam(model.parameters(), lr=LEARNING_RATE)\n",
    "\n",
    "    wandb.init(project=MODEL_NAME, name=run_name)\n",
    "    for epoch in range(NUM_EPOCHS):\n",
    "        print(f\"Epoch {epoch + 1} of {NUM_EPOCHS}\")\n",
    "        for batch_idx, batch in enumerate(dataloader):\n",
    "            if batch_idx % 1000 == 0:\n",
    "                print(f\"Batch {batch_idx + 1} of {len(dataloader)}\")\n",
    "            docs_rel, docs_irr, queries, docs_rel_mask, docs_irr_mask, query_mask = batch\n",
    "\n",
    "            similarity_rel = model(docs_rel, queries, doc_mask=docs_rel_mask, query_mask=query_mask)\n",
    "            similarity_irr = model(docs_irr, queries, doc_mask=docs_irr_mask, query_mask=query_mask)\n",
    "\n",
    "            loss = loss_fn(similarity_rel, similarity_irr, MARGIN)\n",
    "            optimizer.zero_grad()\n",
    "            loss.backward()\n",
    "            optimizer.step()\n",
    "            wandb.log({\"loss\": loss.item()})\n",
    "        save_checkpoint(model, epoch, MODEL_NAME)\n",
    "        \n",
    "    wandb.finish()\n"
   ]
  },
  {
   "cell_type": "code",
   "execution_count": null,
   "metadata": {},
   "outputs": [],
   "source": [
    "for lr in lr_sweep:\n",
    "    run_name = f\"avg_pooling_learning_rate_{lr}_commit_3799989\"\n",
    "    model = TwoTowerModel(embedding_dim=EMBEDDING_DIM, projection_dim=PROJECTION_DIM, embedding_layer=embedding_layer, margin=MARGIN)\n",
    "    optimizer = optim.Adam(model.parameters(), lr=lr)\n",
    "\n",
    "    wandb.init(project=MODEL_NAME, name=run_name)\n",
    "    for epoch in range(NUM_EPOCHS):\n",
    "        print('Learning Rate:', lr)\n",
    "        print(f\"Epoch {epoch + 1} of {NUM_EPOCHS}\")\n",
    "        for batch_idx, batch in enumerate(dataloader):\n",
    "            if batch_idx % 5000 == 0:\n",
    "                print(f\"E{epoch + 1}: Batch {batch_idx + 1} of {len(dataloader)}\")\n",
    "            docs_rel, docs_irr, queries, docs_rel_mask, docs_irr_mask, query_mask = batch\n",
    "\n",
    "            similarity_rel = model(docs_rel, queries, doc_mask=docs_rel_mask, query_mask=query_mask)\n",
    "            similarity_irr = model(docs_irr, queries, doc_mask=docs_irr_mask, query_mask=query_mask)\n",
    "\n",
    "            loss = loss_fn(similarity_rel, similarity_irr, MARGIN)\n",
    "            optimizer.zero_grad()\n",
    "            loss.backward()\n",
    "            optimizer.step()\n",
    "            wandb.log({\"loss\": loss.item()})\n",
    "        save_checkpoint(model, epoch, run_name)\n",
    "    wandb.finish()\n"
   ]
  },
  {
   "cell_type": "code",
   "execution_count": 32,
   "metadata": {},
   "outputs": [],
   "source": [
    "model = TwoTowerModel(embedding_dim=EMBEDDING_DIM, projection_dim=PROJECTION_DIM, embedding_layer=embedding_layer, margin=MARGIN)"
   ]
  },
  {
   "cell_type": "code",
   "execution_count": 34,
   "metadata": {},
   "outputs": [
    {
     "name": "stdout",
     "output_type": "stream",
     "text": [
      "/Users/x25bd/Code/mlx/TwoTowerSearch/src/models\n"
     ]
    }
   ],
   "source": [
    "print(os.getcwd())"
   ]
  },
  {
   "cell_type": "code",
   "execution_count": 35,
   "metadata": {},
   "outputs": [
    {
     "name": "stderr",
     "output_type": "stream",
     "text": [
      "/var/folders/yr/gn_h4yzj0_9g3dttp_dn980r0000gn/T/ipykernel_70030/1876205184.py:1: FutureWarning: You are using `torch.load` with `weights_only=False` (the current default value), which uses the default pickle module implicitly. It is possible to construct malicious pickle data which will execute arbitrary code during unpickling (See https://github.com/pytorch/pytorch/blob/main/SECURITY.md#untrusted-models for more details). In a future release, the default value for `weights_only` will be flipped to `True`. This limits the functions that could be executed during unpickling. Arbitrary objects will no longer be allowed to be loaded via this mode unless they are explicitly allowlisted by the user via `torch.serialization.add_safe_globals`. We recommend you start setting `weights_only=True` for any use case where you don't have full control of the loaded file. Please open an issue on GitHub for any issues related to this experimental feature.\n",
      "  model.load_state_dict(torch.load(f'./checkpoints/avg_pooling_learning_rate_1e-05_commit_3799989_20241024_170821_epoch_3_3799989.pth'))\n"
     ]
    },
    {
     "data": {
      "text/plain": [
       "<All keys matched successfully>"
      ]
     },
     "execution_count": 35,
     "metadata": {},
     "output_type": "execute_result"
    }
   ],
   "source": [
    "model.load_state_dict(torch.load(f'./checkpoints/avg_pooling_learning_rate_1e-05_commit_3799989_20241024_170821_epoch_3_3799989.pth'))"
   ]
  },
  {
   "cell_type": "code",
   "execution_count": 36,
   "metadata": {},
   "outputs": [],
   "source": [
    "def validate(model, dataloader, margin):\n",
    "    model.eval()\n",
    "    total_loss = 0\n",
    "    total_batches = 0\n",
    "    \n",
    "    with torch.no_grad():\n",
    "        for batch in dataloader:\n",
    "            docs_rel, docs_irr, queries, docs_rel_mask, docs_irr_mask, query_mask = batch\n",
    "            \n",
    "            similarity_rel = model(docs_rel, queries, doc_mask=docs_rel_mask, query_mask=query_mask)\n",
    "            similarity_irr = model(docs_irr, queries, doc_mask=docs_irr_mask, query_mask=query_mask)\n",
    "            \n",
    "            loss = loss_fn(similarity_rel, similarity_irr, margin)\n",
    "            total_loss += loss.item()\n",
    "            total_batches += 1\n",
    "    \n",
    "    avg_loss = total_loss / total_batches\n",
    "    return avg_loss"
   ]
  },
  {
   "cell_type": "code",
   "execution_count": 37,
   "metadata": {},
   "outputs": [],
   "source": [
    "\n",
    "df_validation_sample = tokenize(df_validation.sample(n=1000, random_state=RANDOM_SEED), word_to_idx).reset_index(drop=True)\n"
   ]
  },
  {
   "cell_type": "code",
   "execution_count": 38,
   "metadata": {},
   "outputs": [],
   "source": [
    "# Create validation dataset and dataloader\n",
    "validation_dataset = DocumentDataset(df_validation_sample)\n",
    "validation_dataloader = DataLoader(validation_dataset, batch_size=32, shuffle=False, collate_fn=collate)\n"
   ]
  },
  {
   "cell_type": "code",
   "execution_count": 39,
   "metadata": {},
   "outputs": [
    {
     "data": {
      "text/plain": [
       "0.1084432665957138"
      ]
     },
     "execution_count": 39,
     "metadata": {},
     "output_type": "execute_result"
    }
   ],
   "source": [
    "validate(model, validation_dataloader, MARGIN)"
   ]
  },
  {
   "cell_type": "code",
   "execution_count": 40,
   "metadata": {},
   "outputs": [
    {
     "name": "stdout",
     "output_type": "stream",
     "text": [
      "torch.Size([39])\n",
      "torch.Size([27])\n",
      "torch.Size([4])\n"
     ]
    }
   ],
   "source": [
    "rel_doc = df_validation_sample.loc[0, 'doc_relevant']\n",
    "irr_doc = df_validation_sample.loc[0, 'doc_irrelevant']\n",
    "query = df_validation_sample.loc[0, 'query']\n",
    "\n",
    "rel_doc_tokens = torch.tensor(df_validation_sample.loc[0, 'doc_rel_tokens'])\n",
    "irr_doc_tokens = torch.tensor(df_validation_sample.loc[0, 'doc_irr_tokens'])\n",
    "query_tokens = torch.tensor(df_validation_sample.loc[0, 'query_tokens'])\n",
    "\n",
    "print(rel_doc_tokens.shape)\n",
    "print(irr_doc_tokens.shape)\n",
    "print(query_tokens.shape)\n"
   ]
  },
  {
   "cell_type": "code",
   "execution_count": 41,
   "metadata": {},
   "outputs": [
    {
     "data": {
      "text/plain": [
       "(tensor([0.0569]), tensor([0.3039]))"
      ]
     },
     "execution_count": 41,
     "metadata": {},
     "output_type": "execute_result"
    }
   ],
   "source": [
    "model.eval()\n",
    "with torch.no_grad():\n",
    "    similarity_rel = model(rel_doc_tokens.unsqueeze(0), query_tokens.unsqueeze(0))\n",
    "    similarity_irr = model(irr_doc_tokens.unsqueeze(0), query_tokens.unsqueeze(0))\n",
    "\n",
    "similarity_rel, similarity_irr\n"
   ]
  },
  {
   "cell_type": "code",
   "execution_count": null,
   "metadata": {},
   "outputs": [],
   "source": []
  },
  {
   "cell_type": "code",
   "execution_count": 42,
   "metadata": {},
   "outputs": [],
   "source": [
    "query = \"What are the effects of climate change?\"\n",
    "documents = [\n",
    "    \"Climate change is causing rising sea levels and more frequent extreme weather events.\",\n",
    "    \"The Earth orbits around the Sun in an elliptical path.\",\n",
    "    \"Global warming is leading to the melting of polar ice caps and glaciers.\",\n",
    "    \"Photosynthesis is the process by which plants convert sunlight into energy.\",\n",
    "    \"Increased greenhouse gas emissions are a major contributor to global climate change.\",\n",
    "    \"The recipe for a classic Margherita pizza includes fresh mozzarella, tomatoes, and basil.\",\n",
    "    \"The history of the Roman Empire is marked by significant military conquests and cultural achievements.\",\n",
    "    \"Quantum mechanics explores the behavior of particles at the atomic and subatomic levels.\",\n",
    "    \"The rules of chess involve strategic movement of pieces like the knight, bishop, and rook.\",\n",
    "    \"The process of photosynthesis in plants involves converting carbon dioxide and water into glucose and oxygen using sunlight.\"\n",
    "]\n"
   ]
  },
  {
   "cell_type": "code",
   "execution_count": 43,
   "metadata": {},
   "outputs": [],
   "source": [
    "model.eval()\n",
    "with torch.no_grad():\n",
    "    # Tokenize and prepare the query\n",
    "    query_tokens = torch.tensor([str_to_tokens(query, word_to_idx)])\n",
    "    query_mask = (query_tokens != 0).float()\n",
    "\n",
    "    # Tokenize and prepare the documents\n",
    "    doc_tokens = [torch.tensor([str_to_tokens(doc, word_to_idx)]) for doc in documents]\n",
    "    doc_masks = [(doc != 0).float() for doc in doc_tokens]\n",
    "\n",
    "    # Calculate similarities\n",
    "    similarities = []\n",
    "    for doc, mask in zip(doc_tokens, doc_masks):\n",
    "        similarity = model(doc, query_tokens, doc_mask=mask, query_mask=query_mask)\n",
    "        similarities.append(similarity.item())\n",
    "\n",
    "    # Sort documents by similarity\n",
    "    ranked_docs = sorted(zip(documents, similarities), key=lambda x: x[1], reverse=True)\n",
    "\n"
   ]
  },
  {
   "cell_type": "code",
   "execution_count": 44,
   "metadata": {},
   "outputs": [
    {
     "data": {
      "text/html": [
       "<style type=\"text/css\">\n",
       "#T_6163a .col0 {\n",
       "  width: 150px;\n",
       "}\n",
       "#T_6163a .col1 {\n",
       "  width: 600px;\n",
       "}\n",
       "</style>\n",
       "<table id=\"T_6163a\">\n",
       "  <thead>\n",
       "    <tr>\n",
       "      <th class=\"blank level0\" >&nbsp;</th>\n",
       "      <th id=\"T_6163a_level0_col0\" class=\"col_heading level0 col0\" >Query</th>\n",
       "      <th id=\"T_6163a_level0_col1\" class=\"col_heading level0 col1\" >Document</th>\n",
       "      <th id=\"T_6163a_level0_col2\" class=\"col_heading level0 col2\" >Similarity</th>\n",
       "    </tr>\n",
       "  </thead>\n",
       "  <tbody>\n",
       "    <tr>\n",
       "      <th id=\"T_6163a_level0_row0\" class=\"row_heading level0 row0\" >0</th>\n",
       "      <td id=\"T_6163a_row0_col0\" class=\"data row0 col0\" >What are the effects of climate change?</td>\n",
       "      <td id=\"T_6163a_row0_col1\" class=\"data row0 col1\" >Climate change is causing rising sea levels and more frequent extreme weather events.</td>\n",
       "      <td id=\"T_6163a_row0_col2\" class=\"data row0 col2\" >0.780167</td>\n",
       "    </tr>\n",
       "    <tr>\n",
       "      <th id=\"T_6163a_level0_row1\" class=\"row_heading level0 row1\" >1</th>\n",
       "      <td id=\"T_6163a_row1_col0\" class=\"data row1 col0\" >What are the effects of climate change?</td>\n",
       "      <td id=\"T_6163a_row1_col1\" class=\"data row1 col1\" >Global warming is leading to the melting of polar ice caps and glaciers.</td>\n",
       "      <td id=\"T_6163a_row1_col2\" class=\"data row1 col2\" >0.613290</td>\n",
       "    </tr>\n",
       "    <tr>\n",
       "      <th id=\"T_6163a_level0_row2\" class=\"row_heading level0 row2\" >2</th>\n",
       "      <td id=\"T_6163a_row2_col0\" class=\"data row2 col0\" >What are the effects of climate change?</td>\n",
       "      <td id=\"T_6163a_row2_col1\" class=\"data row2 col1\" >Increased greenhouse gas emissions are a major contributor to global climate change.</td>\n",
       "      <td id=\"T_6163a_row2_col2\" class=\"data row2 col2\" >0.560418</td>\n",
       "    </tr>\n",
       "    <tr>\n",
       "      <th id=\"T_6163a_level0_row3\" class=\"row_heading level0 row3\" >3</th>\n",
       "      <td id=\"T_6163a_row3_col0\" class=\"data row3 col0\" >What are the effects of climate change?</td>\n",
       "      <td id=\"T_6163a_row3_col1\" class=\"data row3 col1\" >The history of the Roman Empire is marked by significant military conquests and cultural achievements.</td>\n",
       "      <td id=\"T_6163a_row3_col2\" class=\"data row3 col2\" >0.295092</td>\n",
       "    </tr>\n",
       "    <tr>\n",
       "      <th id=\"T_6163a_level0_row4\" class=\"row_heading level0 row4\" >4</th>\n",
       "      <td id=\"T_6163a_row4_col0\" class=\"data row4 col0\" >What are the effects of climate change?</td>\n",
       "      <td id=\"T_6163a_row4_col1\" class=\"data row4 col1\" >The Earth orbits around the Sun in an elliptical path.</td>\n",
       "      <td id=\"T_6163a_row4_col2\" class=\"data row4 col2\" >0.274273</td>\n",
       "    </tr>\n",
       "    <tr>\n",
       "      <th id=\"T_6163a_level0_row5\" class=\"row_heading level0 row5\" >5</th>\n",
       "      <td id=\"T_6163a_row5_col0\" class=\"data row5 col0\" >What are the effects of climate change?</td>\n",
       "      <td id=\"T_6163a_row5_col1\" class=\"data row5 col1\" >Quantum mechanics explores the behavior of particles at the atomic and subatomic levels.</td>\n",
       "      <td id=\"T_6163a_row5_col2\" class=\"data row5 col2\" >0.182102</td>\n",
       "    </tr>\n",
       "    <tr>\n",
       "      <th id=\"T_6163a_level0_row6\" class=\"row_heading level0 row6\" >6</th>\n",
       "      <td id=\"T_6163a_row6_col0\" class=\"data row6 col0\" >What are the effects of climate change?</td>\n",
       "      <td id=\"T_6163a_row6_col1\" class=\"data row6 col1\" >The process of photosynthesis in plants involves converting carbon dioxide and water into glucose and oxygen using sunlight.</td>\n",
       "      <td id=\"T_6163a_row6_col2\" class=\"data row6 col2\" >0.066531</td>\n",
       "    </tr>\n",
       "    <tr>\n",
       "      <th id=\"T_6163a_level0_row7\" class=\"row_heading level0 row7\" >7</th>\n",
       "      <td id=\"T_6163a_row7_col0\" class=\"data row7 col0\" >What are the effects of climate change?</td>\n",
       "      <td id=\"T_6163a_row7_col1\" class=\"data row7 col1\" >Photosynthesis is the process by which plants convert sunlight into energy.</td>\n",
       "      <td id=\"T_6163a_row7_col2\" class=\"data row7 col2\" >0.050126</td>\n",
       "    </tr>\n",
       "    <tr>\n",
       "      <th id=\"T_6163a_level0_row8\" class=\"row_heading level0 row8\" >8</th>\n",
       "      <td id=\"T_6163a_row8_col0\" class=\"data row8 col0\" >What are the effects of climate change?</td>\n",
       "      <td id=\"T_6163a_row8_col1\" class=\"data row8 col1\" >The rules of chess involve strategic movement of pieces like the knight, bishop, and rook.</td>\n",
       "      <td id=\"T_6163a_row8_col2\" class=\"data row8 col2\" >-0.067225</td>\n",
       "    </tr>\n",
       "    <tr>\n",
       "      <th id=\"T_6163a_level0_row9\" class=\"row_heading level0 row9\" >9</th>\n",
       "      <td id=\"T_6163a_row9_col0\" class=\"data row9 col0\" >What are the effects of climate change?</td>\n",
       "      <td id=\"T_6163a_row9_col1\" class=\"data row9 col1\" >The recipe for a classic Margherita pizza includes fresh mozzarella, tomatoes, and basil.</td>\n",
       "      <td id=\"T_6163a_row9_col2\" class=\"data row9 col2\" >-0.226395</td>\n",
       "    </tr>\n",
       "  </tbody>\n",
       "</table>\n"
      ],
      "text/plain": [
       "<pandas.io.formats.style.Styler at 0x150760350>"
      ]
     },
     "execution_count": 44,
     "metadata": {},
     "output_type": "execute_result"
    }
   ],
   "source": [
    "df_ranked_docs = pd.DataFrame(ranked_docs, columns=['Document', 'Similarity'])\n",
    "df_ranked_docs['Query'] = query\n",
    "df_ranked_docs = df_ranked_docs[['Query', 'Document', 'Similarity']]\n",
    "pd.set_option('display.max_colwidth', None)\n",
    "\n",
    "styled_df = df_ranked_docs.style.set_table_styles(\n",
    "    {\n",
    "        'Query': [{'selector': '', 'props': [('width', '150px')]}],\n",
    "        'Document': [{'selector': '', 'props': [('width', '600px')]}]\n",
    "    }\n",
    ")\n",
    "\n",
    "styled_df\n",
    "\n"
   ]
  },
  {
   "cell_type": "code",
   "execution_count": null,
   "metadata": {},
   "outputs": [],
   "source": []
  }
 ],
 "metadata": {
  "kernelspec": {
   "display_name": "env",
   "language": "python",
   "name": "python3"
  },
  "language_info": {
   "codemirror_mode": {
    "name": "ipython",
    "version": 3
   },
   "file_extension": ".py",
   "mimetype": "text/x-python",
   "name": "python",
   "nbconvert_exporter": "python",
   "pygments_lexer": "ipython3",
   "version": "3.12.7"
  }
 },
 "nbformat": 4,
 "nbformat_minor": 2
}
