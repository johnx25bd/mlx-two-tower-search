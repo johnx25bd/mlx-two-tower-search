{
 "cells": [
  {
   "cell_type": "markdown",
   "metadata": {},
   "source": [
    "# Two Towers Model\n",
    "- based on word2vec embeddings from gensim\n",
    "- use a simple average of the word embeddings as the document embedding\n",
    "- use a simple feedforward neural network as the encoder\n"
   ]
  },
  {
   "cell_type": "code",
   "execution_count": 6,
   "metadata": {},
   "outputs": [],
   "source": [
    "import os\n",
    "import sys\n",
    "\n",
    "import torch\n",
    "import torch.nn as nn\n",
    "import torch.optim as optim\n",
    "import torch.nn.functional as F\n",
    "from torch.utils.data import DataLoader\n",
    "\n",
    "import numpy as np\n",
    "import pandas as pd\n",
    "\n",
    "import gensim\n",
    "import gensim.downloader as api\n",
    "from datasets import load_dataset\n",
    "\n",
    "sys.path.append(os.path.abspath(os.path.join(os.getcwd(), '..')))\n",
    "\n",
    "from utils import collate\n",
    "from core import DocumentDataset\n",
    "from utils.load_data import load_word2vec\n",
    "from utils.preprocess_str import str_to_tokens, str_to_list\n"
   ]
  },
  {
   "cell_type": "code",
   "execution_count": 7,
   "metadata": {},
   "outputs": [],
   "source": [
    "# Define HYPERPARAMETERS\n",
    "RANDOM_SEED = 42\n",
    "FREEZE_EMBEDDINGS = True\n",
    "Q_SEQ_LENGTH = 10\n",
    "D_SEQ_LENGTH = 400\n"
   ]
  },
  {
   "cell_type": "code",
   "execution_count": 8,
   "metadata": {},
   "outputs": [],
   "source": [
    "embeddings, word_to_idx = load_word2vec()\n",
    "embedding_layer = nn.Embedding.from_pretrained(embeddings, freeze=FREEZE_EMBEDDINGS)\n"
   ]
  },
  {
   "cell_type": "code",
   "execution_count": 9,
   "metadata": {},
   "outputs": [],
   "source": [
    "df = pd.read_parquet('../data/training.parquet')\n",
    "# TODO: We should create an ID for each document / query pair — right now they're just for queries ...\n",
    "df = df.sample(n=10000, random_state=RANDOM_SEED)"
   ]
  },
  {
   "cell_type": "code",
   "execution_count": 10,
   "metadata": {},
   "outputs": [],
   "source": [
    "df = df[['document', 'query', 'relevance']].copy()\n",
    "df.reset_index(inplace=True)\n"
   ]
  },
  {
   "cell_type": "code",
   "execution_count": 25,
   "metadata": {},
   "outputs": [],
   "source": [
    "df.loc[:, 'document_list_len'] = df['document'].apply(lambda x: len(x.split()))\n",
    "df.loc[:, 'query_list_len'] = df['query'].apply(lambda x: len(x.split()))\n"
   ]
  },
  {
   "cell_type": "code",
   "execution_count": 27,
   "metadata": {},
   "outputs": [
    {
     "data": {
      "text/plain": [
       "count    10000.000000\n",
       "mean        70.673600\n",
       "std         25.890745\n",
       "min         11.000000\n",
       "25%         48.000000\n",
       "50%         71.000000\n",
       "75%         91.000000\n",
       "max        194.000000\n",
       "Name: document_list_len, dtype: float64"
      ]
     },
     "execution_count": 27,
     "metadata": {},
     "output_type": "execute_result"
    }
   ],
   "source": [
    "df['document_list_len'].describe()"
   ]
  },
  {
   "cell_type": "code",
   "execution_count": 28,
   "metadata": {},
   "outputs": [
    {
     "data": {
      "text/plain": [
       "count    10000.000000\n",
       "mean        39.310000\n",
       "std         13.720981\n",
       "min          5.000000\n",
       "25%         28.000000\n",
       "50%         39.000000\n",
       "75%         50.000000\n",
       "max         99.000000\n",
       "Name: document_length, dtype: float64"
      ]
     },
     "execution_count": 28,
     "metadata": {},
     "output_type": "execute_result"
    }
   ],
   "source": [
    "df['document_length'].describe()\n"
   ]
  },
  {
   "cell_type": "code",
   "execution_count": 24,
   "metadata": {},
   "outputs": [
    {
     "data": {
      "text/plain": [
       "32"
      ]
     },
     "execution_count": 24,
     "metadata": {},
     "output_type": "execute_result"
    }
   ],
   "source": [
    "len(str_to_tokens(df.loc[10, 'document'], word_to_idx))\n"
   ]
  },
  {
   "cell_type": "code",
   "execution_count": 13,
   "metadata": {},
   "outputs": [],
   "source": [
    "df.loc[:, 'document_tokens'] = df['document'].apply(lambda x: str_to_tokens(x, word_to_idx))\n",
    "df.loc[:, 'query_tokens'] = df['query'].apply(lambda x: str_to_tokens(x, word_to_idx))\n"
   ]
  },
  {
   "cell_type": "code",
   "execution_count": 14,
   "metadata": {},
   "outputs": [
    {
     "data": {
      "text/html": [
       "<div>\n",
       "<style scoped>\n",
       "    .dataframe tbody tr th:only-of-type {\n",
       "        vertical-align: middle;\n",
       "    }\n",
       "\n",
       "    .dataframe tbody tr th {\n",
       "        vertical-align: top;\n",
       "    }\n",
       "\n",
       "    .dataframe thead th {\n",
       "        text-align: right;\n",
       "    }\n",
       "</style>\n",
       "<table border=\"1\" class=\"dataframe\">\n",
       "  <thead>\n",
       "    <tr style=\"text-align: right;\">\n",
       "      <th></th>\n",
       "      <th>index</th>\n",
       "      <th>document</th>\n",
       "      <th>query</th>\n",
       "      <th>relevance</th>\n",
       "      <th>document_tokens</th>\n",
       "      <th>query_tokens</th>\n",
       "    </tr>\n",
       "  </thead>\n",
       "  <tbody>\n",
       "    <tr>\n",
       "      <th>0</th>\n",
       "      <td>543005</td>\n",
       "      <td>10 years is not old for a boiler. Ask the serv...</td>\n",
       "      <td>what is fluoxetine used for</td>\n",
       "      <td>0</td>\n",
       "      <td>[1133, 15, 236, 16348, 919, 51015, 1013, 16348...</td>\n",
       "      <td>[1133, 28114, 10, 1134]</td>\n",
       "    </tr>\n",
       "    <tr>\n",
       "      <th>1</th>\n",
       "      <td>1119141</td>\n",
       "      <td>Gabapentin is a generic for neurontin. Vicodin...</td>\n",
       "      <td>is neurontin a narcotic medication</td>\n",
       "      <td>1</td>\n",
       "      <td>[1133, 50959, 26, 66519, 51012, 26337, 2244, 8...</td>\n",
       "      <td>[1133, 66519, 7072, 842, 1134]</td>\n",
       "    </tr>\n",
       "    <tr>\n",
       "      <th>2</th>\n",
       "      <td>1402220</td>\n",
       "      <td>What To Expect After Surgery. The hospital sta...</td>\n",
       "      <td>keflex medication uses</td>\n",
       "      <td>0</td>\n",
       "      <td>[1133, 884, 3779, 1987, 1604, 73704, 716, 43, ...</td>\n",
       "      <td>[1133, 842, 10, 1134]</td>\n",
       "    </tr>\n",
       "    <tr>\n",
       "      <th>3</th>\n",
       "      <td>1366415</td>\n",
       "      <td>The result, a lot of the time, is a lost carp!...</td>\n",
       "      <td>can you use a chod rig without lead core</td>\n",
       "      <td>1</td>\n",
       "      <td>[1133, 114, 2132, 14, 606, 12552, 861, 137, 23...</td>\n",
       "      <td>[1133, 10, 65289, 7672, 248, 288, 1845, 1134]</td>\n",
       "    </tr>\n",
       "    <tr>\n",
       "      <th>4</th>\n",
       "      <td>13131</td>\n",
       "      <td>Removing or filling in a wood or steel walled ...</td>\n",
       "      <td>cost to fill in a pool</td>\n",
       "      <td>1</td>\n",
       "      <td>[1133, 731, 1691, 1477, 1875, 1031, 12357, 309...</td>\n",
       "      <td>[1133, 786, 1691, 3095, 1134]</td>\n",
       "    </tr>\n",
       "  </tbody>\n",
       "</table>\n",
       "</div>"
      ],
      "text/plain": [
       "     index                                           document  \\\n",
       "0   543005  10 years is not old for a boiler. Ask the serv...   \n",
       "1  1119141  Gabapentin is a generic for neurontin. Vicodin...   \n",
       "2  1402220  What To Expect After Surgery. The hospital sta...   \n",
       "3  1366415  The result, a lot of the time, is a lost carp!...   \n",
       "4    13131  Removing or filling in a wood or steel walled ...   \n",
       "\n",
       "                                      query  relevance  \\\n",
       "0               what is fluoxetine used for          0   \n",
       "1        is neurontin a narcotic medication          1   \n",
       "2                    keflex medication uses          0   \n",
       "3  can you use a chod rig without lead core          1   \n",
       "4                    cost to fill in a pool          1   \n",
       "\n",
       "                                     document_tokens  \\\n",
       "0  [1133, 15, 236, 16348, 919, 51015, 1013, 16348...   \n",
       "1  [1133, 50959, 26, 66519, 51012, 26337, 2244, 8...   \n",
       "2  [1133, 884, 3779, 1987, 1604, 73704, 716, 43, ...   \n",
       "3  [1133, 114, 2132, 14, 606, 12552, 861, 137, 23...   \n",
       "4  [1133, 731, 1691, 1477, 1875, 1031, 12357, 309...   \n",
       "\n",
       "                                    query_tokens  \n",
       "0                        [1133, 28114, 10, 1134]  \n",
       "1                 [1133, 66519, 7072, 842, 1134]  \n",
       "2                          [1133, 842, 10, 1134]  \n",
       "3  [1133, 10, 65289, 7672, 248, 288, 1845, 1134]  \n",
       "4                  [1133, 786, 1691, 3095, 1134]  "
      ]
     },
     "execution_count": 14,
     "metadata": {},
     "output_type": "execute_result"
    }
   ],
   "source": [
    "df.head()"
   ]
  },
  {
   "cell_type": "code",
   "execution_count": 15,
   "metadata": {},
   "outputs": [],
   "source": [
    "df['query_length'] = df['query_tokens'].apply(len)\n",
    "df['document_length'] = df['document_tokens'].apply(len)\n",
    "\n"
   ]
  },
  {
   "cell_type": "code",
   "execution_count": 20,
   "metadata": {},
   "outputs": [
    {
     "name": "stdout",
     "output_type": "stream",
     "text": [
      "SEQ_LENGTH: ~9\n"
     ]
    },
    {
     "data": {
      "image/png": "[encoded data removed]",
      "text/plain": [
       "<Figure size 1000x500 with 2 Axes>"
      ]
     },
     "metadata": {},
     "output_type": "display_data"
    }
   ],
   "source": [
    "df[['query_length']].hist(bins=100, layout=(2,1 ), figsize=(10, 5))\n",
    "print('SEQ_LENGTH: ~10')\n"
   ]
  },
  {
   "cell_type": "code",
   "execution_count": 21,
   "metadata": {},
   "outputs": [
    {
     "data": {
      "text/plain": [
       "array([[<Axes: title={'center': 'document_length'}>],\n",
       "       [<Axes: >]], dtype=object)"
      ]
     },
     "execution_count": 21,
     "metadata": {},
     "output_type": "execute_result"
    },
    {
     "data": {
      "image/png": "[encoded data removed]",
      "text/plain": [
       "<Figure size 1000x500 with 2 Axes>"
      ]
     },
     "metadata": {},
     "output_type": "display_data"
    }
   ],
   "source": [
    "df[['document_length']].hist(bins=100, layout=(2,1 ), figsize=(10, 5))\n",
    "\n"
   ]
  },
  {
   "cell_type": "code",
   "execution_count": 53,
   "metadata": {},
   "outputs": [],
   "source": [
    "def embed_tokens(tokens):\n",
    "    embed_tensor = [torch.tensor(embedding_layer(torch.tensor(t, dtype=torch.long)), dtype=torch.float32) for t in tokens]\n",
    "    embed_tensor = torch.stack(embed_tensor)\n",
    "    return embed_tensor\n",
    "\n"
   ]
  },
  {
   "cell_type": "code",
   "execution_count": 65,
   "metadata": {},
   "outputs": [],
   "source": [
    "\n",
    "# train_loader = DataLoader(train_dataset, batch_size=32, shuffle=True, collate_fn=collate)\n"
   ]
  },
  {
   "cell_type": "code",
   "execution_count": 67,
   "metadata": {},
   "outputs": [],
   "source": [
    "dataset = DocumentDataset(df)\n",
    "dataloader = DataLoader(dataset, batch_size=32, shuffle=False, collate_fn=collate)"
   ]
  },
  {
   "cell_type": "code",
   "execution_count": null,
   "metadata": {},
   "outputs": [],
   "source": [
    "i = 0\n",
    "for docs, queries, doc_mask, query_mask, labels in dataloader:\n",
    "    print('Batch', i + 1)\n",
    "    print(\"Documents shape:\", docs.shape)\n",
    "    print(\"Queries shape:\", queries.shape)\n",
    "    print(\"Document mask shape:\", doc_mask.shape)\n",
    "    print(\"Query mask shape:\", query_mask.shape)\n",
    "    print(\"Labels shape:\", labels.shape)\n",
    "    print(docs)\n",
    "    i += 1\n",
    "    if i > 3:\n",
    "        break  # Just print the first batch\n"
   ]
  },
  {
   "cell_type": "code",
   "execution_count": 93,
   "metadata": {},
   "outputs": [],
   "source": [
    "class TwoTowerModel(nn.Module):\n",
    "    def __init__(self, vocab_size, embedding_dim, hidden_dim, num_layers, embedding_layer):\n",
    "        super(TwoTowerModel, self).__init__()\n",
    "        \n",
    "        self.embedding = embedding_layer\n",
    "\n",
    "        self.doc_rnn = nn.RNN(embedding_dim, hidden_dim, num_layers, batch_first=True)\n",
    "\n",
    "        self.query_rnn = nn.RNN(embedding_dim, hidden_dim, num_layers, batch_first=True)\n",
    "    \n",
    "    def doc_forward(self, doc_ids):\n",
    "        pass\n",
    "    def query_forward(self, query_ids):\n",
    "        pass\n",
    "        \n",
    "    \n",
    "    def forward(self, doc_ids, query_ids):\n",
    "        # do we need to zero out the hidden state?\n",
    "        doc_embed = self.embedding(doc_ids)\n",
    "        query_embed = self.embedding(query_ids)\n",
    "\n",
    "        _, doc_hidden = self.doc_rnn(doc_embed)\n",
    "        _, query_hidden = self.query_rnn(query_embed)\n",
    "\n",
    "        doc_encoded = doc_hidden[-1] # average across timesteps\n",
    "        query_encoded = query_hidden[-1]\n",
    "        \n",
    "        similarity = F.cosine_similarity(doc_encoded, query_encoded, dim=1)\n",
    "\n",
    "        return similarity\n",
    "\n",
    "    # Loss\n",
    "        # s = cosine_similarity(hd_n, hq_n)\n",
    "        # if relevance == 0, s should be low\n",
    "        # if relevance == 1 or 2, s should be high\n",
    "        \n",
    "    # Backprop\n"
   ]
  },
  {
   "cell_type": "code",
   "execution_count": 94,
   "metadata": {},
   "outputs": [],
   "source": [
    "model = TwoTowerModel(vocab_size=len(vocab), embedding_dim=100, hidden_dim=128, num_layers=1, embedding_layer=embedding_layer)"
   ]
  },
  {
   "cell_type": "code",
   "execution_count": null,
   "metadata": {},
   "outputs": [],
   "source": [
    "print(model)"
   ]
  },
  {
   "cell_type": "code",
   "execution_count": null,
   "metadata": {},
   "outputs": [],
   "source": [
    "model.eval()"
   ]
  },
  {
   "cell_type": "code",
   "execution_count": null,
   "metadata": {},
   "outputs": [],
   "source": [
    "dataiter = iter(dataloader)\n",
    "docs, queries, doc_mask, query_mask, labels = next(dataiter)\n",
    "\n",
    "print(docs.shape)\n",
    "print(queries.shape)\n",
    "print(doc_mask.shape)\n",
    "print(query_mask.shape)\n",
    "print(labels.shape)"
   ]
  },
  {
   "cell_type": "code",
   "execution_count": 98,
   "metadata": {},
   "outputs": [],
   "source": [
    "doc = docs[0].unsqueeze(0)\n",
    "query = queries[0].unsqueeze(0)"
   ]
  },
  {
   "cell_type": "code",
   "execution_count": 99,
   "metadata": {},
   "outputs": [],
   "source": [
    "with torch.no_grad():\n",
    "    similarity = model(doc, query)"
   ]
  },
  {
   "cell_type": "code",
   "execution_count": null,
   "metadata": {},
   "outputs": [],
   "source": [
    "\n",
    "print(\"Input document shape:\", doc.shape)\n",
    "print(\"Input query shape:\", query.shape)\n",
    "print(\"Output similarity:\", similarity.item())\n",
    "\n",
    "# If you want to see the actual document and query\n",
    "print(\"\\nDocument tokens:\", doc.squeeze().tolist())\n",
    "print(\"Query tokens:\", query.squeeze().tolist())\n",
    "\n",
    "# If you have a way to convert token IDs back to words, you could use it here\n",
    "# print(\"Document:\", convert_ids_to_words(doc.squeeze().tolist()))\n",
    "# print(\"Query:\", convert_ids_to_words(query.squeeze().tolist()))\n",
    "\n",
    "print(\"\\nTrue label:\", labels[0].item())"
   ]
  },
  {
   "cell_type": "code",
   "execution_count": null,
   "metadata": {},
   "outputs": [],
   "source": []
  }
 ],
 "metadata": {
  "kernelspec": {
   "display_name": "env",
   "language": "python",
   "name": "python3"
  },
  "language_info": {
   "codemirror_mode": {
    "name": "ipython",
    "version": 3
   },
   "file_extension": ".py",
   "mimetype": "text/x-python",
   "name": "python",
   "nbconvert_exporter": "python",
   "pygments_lexer": "ipython3",
   "version": "3.12.7"
  }
 },
 "nbformat": 4,
 "nbformat_minor": 2
}
