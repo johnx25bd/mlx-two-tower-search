{
 "cells": [
  {
   "cell_type": "markdown",
   "metadata": {},
   "source": [
    "# Two Towers Model\n",
    "- based on word2vec embeddings from gensim\n",
    "- use a simple average of the word embeddings as the document embedding\n",
    "- use a simple feedforward neural network as the encoder\n"
   ]
  },
  {
   "cell_type": "code",
   "execution_count": 1,
   "metadata": {},
   "outputs": [],
   "source": [
    "\n",
    "import torch\n",
    "import numpy as np\n",
    "import torch.nn as nn\n",
    "import torch.optim as optim\n",
    "import torch.nn.functional as F\n",
    "import gensim\n",
    "import pandas as pd\n",
    "import gensim.downloader as api\n",
    "import matplotlib.pyplot as plt\n",
    "from sklearn.decomposition import PCA\n",
    "from torch.utils.data import Dataset, DataLoader\n",
    "from torch.nn.utils.rnn import pad_sequence\n"
   ]
  },
  {
   "cell_type": "code",
   "execution_count": 2,
   "metadata": {},
   "outputs": [
    {
     "name": "stderr",
     "output_type": "stream",
     "text": [
      "[nltk_data] Downloading package stopwords to /Users/x25bd/nltk_data...\n",
      "[nltk_data]   Package stopwords is already up-to-date!\n",
      "[nltk_data] Downloading package punkt to /Users/x25bd/nltk_data...\n",
      "[nltk_data]   Package punkt is already up-to-date!\n"
     ]
    }
   ],
   "source": [
    "import sys\n",
    "import os\n",
    "sys.path.append(os.path.abspath(os.path.join(os.getcwd(), '..')))\n",
    "\n",
    "from utils.preprocess_str import preprocess_list as preprocess"
   ]
  },
  {
   "cell_type": "code",
   "execution_count": 3,
   "metadata": {},
   "outputs": [],
   "source": [
    "random_seed = 42  # You can choose any integer value\n",
    "pd.set_option('mode.chained_assignment', None)  # Suppress SettingWithCopyWarning\n",
    "np.random.seed(random_seed)"
   ]
  },
  {
   "cell_type": "code",
   "execution_count": 4,
   "metadata": {},
   "outputs": [],
   "source": [
    "#PREPROCESS text8\n",
    "raw_corpus = api.load('text8')"
   ]
  },
  {
   "cell_type": "code",
   "execution_count": 5,
   "metadata": {},
   "outputs": [],
   "source": [
    "corpus = [preprocess(doc) for doc in raw_corpus]"
   ]
  },
  {
   "cell_type": "code",
   "execution_count": 6,
   "metadata": {},
   "outputs": [],
   "source": [
    "w2v = gensim.models.Word2Vec(corpus, vector_size=100, window=5, min_count=3, workers=4)\n",
    "w2v.save('./word2vec/word2vec-gensim-text8-custom-preprocess.model')"
   ]
  },
  {
   "cell_type": "code",
   "execution_count": 7,
   "metadata": {},
   "outputs": [
    {
     "name": "stdout",
     "output_type": "stream",
     "text": [
      "torch.Size([74792, 100])\n"
     ]
    }
   ],
   "source": [
    "# Load the word2vec model, extract embeddings, convert to torch tensor\n",
    "# w2v = gensim.models.Word2Vec.load('./word2vec/word2vec-gensim-text8-custom-preprocess.model')\n",
    "vocab = w2v.wv.index_to_key\n",
    "word_to_idx = {word: i for i, word in enumerate(vocab)}\n",
    "embeddings_array = np.array([w2v.wv[word] for word in vocab])\n",
    "embeddings = torch.tensor(embeddings_array, dtype=torch.float32)\n",
    "print(embeddings.shape)"
   ]
  },
  {
   "cell_type": "code",
   "execution_count": 101,
   "metadata": {},
   "outputs": [],
   "source": [
    "embedding_layer = nn.Embedding.from_pretrained(embeddings, freeze=True)\n",
    "word_index = torch.tensor([word_to_idx['north']], dtype=torch.long)\n"
   ]
  },
  {
   "cell_type": "code",
   "execution_count": 17,
   "metadata": {},
   "outputs": [],
   "source": [
    "df = pd.read_parquet('../data/training.parquet')\n",
    "df = df.sample(n=10000, random_state=random_seed)"
   ]
  },
  {
   "cell_type": "code",
   "execution_count": 18,
   "metadata": {},
   "outputs": [],
   "source": [
    "df = df[['document', 'query', 'relevance']].copy()\n",
    "df.reset_index(inplace=True)\n"
   ]
  },
  {
   "cell_type": "code",
   "execution_count": 21,
   "metadata": {},
   "outputs": [],
   "source": [
    "def str_to_tokens(s):\n",
    "    split = preprocess(s)\n",
    "    return [word_to_idx[word] for word in split if word in word_to_idx]\n",
    "\n"
   ]
  },
  {
   "cell_type": "code",
   "execution_count": 22,
   "metadata": {},
   "outputs": [],
   "source": [
    "df.loc[:, 'document_tokens'] = df['document'].apply(str_to_tokens)\n",
    "df.loc[:, 'query_tokens'] = df['query'].apply(str_to_tokens)\n"
   ]
  },
  {
   "cell_type": "code",
   "execution_count": 103,
   "metadata": {},
   "outputs": [
    {
     "data": {
      "text/html": [
       "<div>\n",
       "<style scoped>\n",
       "    .dataframe tbody tr th:only-of-type {\n",
       "        vertical-align: middle;\n",
       "    }\n",
       "\n",
       "    .dataframe tbody tr th {\n",
       "        vertical-align: top;\n",
       "    }\n",
       "\n",
       "    .dataframe thead th {\n",
       "        text-align: right;\n",
       "    }\n",
       "</style>\n",
       "<table border=\"1\" class=\"dataframe\">\n",
       "  <thead>\n",
       "    <tr style=\"text-align: right;\">\n",
       "      <th></th>\n",
       "      <th>index</th>\n",
       "      <th>document</th>\n",
       "      <th>query</th>\n",
       "      <th>relevance</th>\n",
       "      <th>document_tokens</th>\n",
       "      <th>query_tokens</th>\n",
       "      <th>query_length</th>\n",
       "      <th>document_length</th>\n",
       "    </tr>\n",
       "  </thead>\n",
       "  <tbody>\n",
       "    <tr>\n",
       "      <th>0</th>\n",
       "      <td>543005</td>\n",
       "      <td>10 years is not old for a boiler. Ask the serv...</td>\n",
       "      <td>what is fluoxetine used for</td>\n",
       "      <td>0</td>\n",
       "      <td>[1133, 62, 222, 122, 270, 142, 222, 28, 270, 6...</td>\n",
       "      <td>[1133, 543, 263, 142, 270, 107, 77, 62, 122, 6...</td>\n",
       "      <td>15</td>\n",
       "      <td>192</td>\n",
       "    </tr>\n",
       "    <tr>\n",
       "      <th>1</th>\n",
       "      <td>1119141</td>\n",
       "      <td>Gabapentin is a generic for neurontin. Vicodin...</td>\n",
       "      <td>is neurontin a narcotic medication</td>\n",
       "      <td>1</td>\n",
       "      <td>[1133, 112, 28, 224, 62, 122, 122, 112, 62, 12...</td>\n",
       "      <td>[1133, 122, 62, 107, 222, 122, 122, 122, 222, ...</td>\n",
       "      <td>15</td>\n",
       "      <td>155</td>\n",
       "    </tr>\n",
       "    <tr>\n",
       "      <th>2</th>\n",
       "      <td>1402220</td>\n",
       "      <td>What To Expect After Surgery. The hospital sta...</td>\n",
       "      <td>keflex medication uses</td>\n",
       "      <td>0</td>\n",
       "      <td>[1133, 543, 263, 62, 77, 224, 62, 72, 30630, 1...</td>\n",
       "      <td>[1133, 308, 62, 142, 270, 62, 77, 62, 72, 122,...</td>\n",
       "      <td>13</td>\n",
       "      <td>252</td>\n",
       "    </tr>\n",
       "    <tr>\n",
       "      <th>3</th>\n",
       "      <td>1366415</td>\n",
       "      <td>The result, a lot of the time, is a lost carp!...</td>\n",
       "      <td>can you use a chod rig without lead core</td>\n",
       "      <td>1</td>\n",
       "      <td>[1133, 263, 62, 222, 62, 107, 270, 270, 142, 2...</td>\n",
       "      <td>[1133, 72, 122, 107, 107, 62, 72, 263, 222, 11...</td>\n",
       "      <td>19</td>\n",
       "      <td>197</td>\n",
       "    </tr>\n",
       "    <tr>\n",
       "      <th>4</th>\n",
       "      <td>13131</td>\n",
       "      <td>Removing or filling in a wood or steel walled ...</td>\n",
       "      <td>cost to fill in a pool</td>\n",
       "      <td>1</td>\n",
       "      <td>[1133, 222, 62, 330, 122, 112, 222, 142, 270, ...</td>\n",
       "      <td>[1133, 72, 142, 270, 270, 122, 224, 270, 1134]</td>\n",
       "      <td>9</td>\n",
       "      <td>126</td>\n",
       "    </tr>\n",
       "  </tbody>\n",
       "</table>\n",
       "</div>"
      ],
      "text/plain": [
       "     index                                           document  \\\n",
       "0   543005  10 years is not old for a boiler. Ask the serv...   \n",
       "1  1119141  Gabapentin is a generic for neurontin. Vicodin...   \n",
       "2  1402220  What To Expect After Surgery. The hospital sta...   \n",
       "3  1366415  The result, a lot of the time, is a lost carp!...   \n",
       "4    13131  Removing or filling in a wood or steel walled ...   \n",
       "\n",
       "                                      query  relevance  \\\n",
       "0               what is fluoxetine used for          0   \n",
       "1        is neurontin a narcotic medication          1   \n",
       "2                    keflex medication uses          0   \n",
       "3  can you use a chod rig without lead core          1   \n",
       "4                    cost to fill in a pool          1   \n",
       "\n",
       "                                     document_tokens  \\\n",
       "0  [1133, 62, 222, 122, 270, 142, 222, 28, 270, 6...   \n",
       "1  [1133, 112, 28, 224, 62, 122, 122, 112, 62, 12...   \n",
       "2  [1133, 543, 263, 62, 77, 224, 62, 72, 30630, 1...   \n",
       "3  [1133, 263, 62, 222, 62, 107, 270, 270, 142, 2...   \n",
       "4  [1133, 222, 62, 330, 122, 112, 222, 142, 270, ...   \n",
       "\n",
       "                                        query_tokens  query_length  \\\n",
       "0  [1133, 543, 263, 142, 270, 107, 77, 62, 122, 6...            15   \n",
       "1  [1133, 122, 62, 107, 222, 122, 122, 122, 222, ...            15   \n",
       "2  [1133, 308, 62, 142, 270, 62, 77, 62, 72, 122,...            13   \n",
       "3  [1133, 72, 122, 107, 107, 62, 72, 263, 222, 11...            19   \n",
       "4     [1133, 72, 142, 270, 270, 122, 224, 270, 1134]             9   \n",
       "\n",
       "   document_length  \n",
       "0              192  \n",
       "1              155  \n",
       "2              252  \n",
       "3              197  \n",
       "4              126  "
      ]
     },
     "execution_count": 103,
     "metadata": {},
     "output_type": "execute_result"
    }
   ],
   "source": [
    "df.head()"
   ]
  },
  {
   "cell_type": "code",
   "execution_count": 24,
   "metadata": {},
   "outputs": [],
   "source": [
    "df['query_length'] = df['query_tokens'].apply(len)\n",
    "df['document_length'] = df['document_tokens'].apply(len)\n",
    "\n"
   ]
  },
  {
   "cell_type": "code",
   "execution_count": 34,
   "metadata": {},
   "outputs": [
    {
     "name": "stdout",
     "output_type": "stream",
     "text": [
      "SEQ_LENGTH: ~30\n"
     ]
    },
    {
     "data": {
      "image/png": "[encoded data removed]",
      "text/plain": [
       "<Figure size 1000x500 with 2 Axes>"
      ]
     },
     "metadata": {},
     "output_type": "display_data"
    }
   ],
   "source": [
    "df[['query_length']].hist(bins=100, layout=(2,1 ), figsize=(10, 5))\n",
    "print('SEQ_LENGTH: ~30')\n"
   ]
  },
  {
   "cell_type": "code",
   "execution_count": 60,
   "metadata": {},
   "outputs": [
    {
     "data": {
      "text/plain": [
       "array([[<Axes: title={'center': 'document_length'}>],\n",
       "       [<Axes: >]], dtype=object)"
      ]
     },
     "execution_count": 60,
     "metadata": {},
     "output_type": "execute_result"
    },
    {
     "data": {
      "image/png": "[encoded data removed]",
      "text/plain": [
       "<Figure size 1000x500 with 2 Axes>"
      ]
     },
     "metadata": {},
     "output_type": "display_data"
    }
   ],
   "source": [
    "df[['document_length']].hist(bins=100, layout=(2,1 ), figsize=(10, 5))\n",
    "\n"
   ]
  },
  {
   "cell_type": "code",
   "execution_count": 53,
   "metadata": {},
   "outputs": [],
   "source": [
    "def embed_tokens(tokens):\n",
    "    embed_tensor = [torch.tensor(embedding_layer(torch.tensor(t, dtype=torch.long)), dtype=torch.float32) for t in tokens]\n",
    "    embed_tensor = torch.stack(embed_tensor)\n",
    "    return embed_tensor\n",
    "\n"
   ]
  },
  {
   "cell_type": "code",
   "execution_count": 42,
   "metadata": {},
   "outputs": [],
   "source": [
    "class DocumentDataset(Dataset):\n",
    "    def __init__(self, df_input):\n",
    "        self.documents = df_input['document_tokens']\n",
    "        self.queries = df_input['query_tokens']\n",
    "        self.labels = df_input['relevance']\n",
    "\n",
    "    def __len__(self):\n",
    "        return len(self.documents)\n",
    "    \n",
    "    def __getitem__(self, idx):\n",
    "        return (\n",
    "            # This outputs tensors of token indices — variable length\n",
    "                # NOT embeddings\n",
    "            torch.tensor(self.documents.iloc[idx], dtype=torch.long),\n",
    "            torch.tensor(self.queries.iloc[idx], dtype=torch.long),\n",
    "            # This will be a scalar float\n",
    "            torch.tensor(self.labels.iloc[idx], dtype=torch.float32),\n",
    "        )\n",
    "\n"
   ]
  },
  {
   "cell_type": "code",
   "execution_count": 65,
   "metadata": {},
   "outputs": [],
   "source": [
    "def collate(batch):\n",
    "    docs, queries, labels = zip(*batch)\n",
    "    docs = pad_sequence(docs, batch_first=True, padding_value=0)\n",
    "    queries = pad_sequence(queries, batch_first=True, padding_value=0)\n",
    "\n",
    "    # Create masks\n",
    "    doc_mask = (docs != 0).float()\n",
    "    query_mask = (queries != 0).float()\n",
    "    labels = torch.tensor(labels, dtype=torch.float32)\n",
    "    return docs, queries, doc_mask, query_mask, labels\n",
    "\n",
    "\n",
    "# train_loader = DataLoader(train_dataset, batch_size=32, shuffle=True, collate_fn=collate)\n"
   ]
  },
  {
   "cell_type": "code",
   "execution_count": 67,
   "metadata": {},
   "outputs": [],
   "source": [
    "dataset = DocumentDataset(df)\n",
    "dataloader = DataLoader(dataset, batch_size=32, shuffle=False, collate_fn=collate)"
   ]
  },
  {
   "cell_type": "code",
   "execution_count": 76,
   "metadata": {},
   "outputs": [
    {
     "name": "stdout",
     "output_type": "stream",
     "text": [
      "Batch 1\n",
      "Documents shape: torch.Size([32, 324])\n",
      "Queries shape: torch.Size([32, 35])\n",
      "Document mask shape: torch.Size([32, 324])\n",
      "Query mask shape: torch.Size([32, 35])\n",
      "Labels shape: torch.Size([32])\n",
      "tensor([[ 1133,    62,   222,  ...,     0,     0,     0],\n",
      "        [ 1133,   112,    28,  ...,     0,     0,     0],\n",
      "        [ 1133,   543,   263,  ...,     0,     0,     0],\n",
      "        ...,\n",
      "        [ 1133, 30630,   263,  ...,     0,     0,     0],\n",
      "        [ 1133,   543,   122,  ...,     0,     0,     0],\n",
      "        [ 1133,   107,   222,  ...,     0,     0,     0]])\n",
      "Batch 2\n",
      "Documents shape: torch.Size([32, 319])\n",
      "Queries shape: torch.Size([32, 38])\n",
      "Document mask shape: torch.Size([32, 319])\n",
      "Query mask shape: torch.Size([32, 38])\n",
      "Labels shape: torch.Size([32])\n",
      "tensor([[ 1133, 42359,   122,  ...,   263,   222,  1134],\n",
      "        [ 1133,    72,    62,  ...,     0,     0,     0],\n",
      "        [ 1133,   263,    62,  ...,     0,     0,     0],\n",
      "        ...,\n",
      "        [ 1133,   263,    62,  ...,     0,     0,     0],\n",
      "        [ 1133,    62,   222,  ...,     0,     0,     0],\n",
      "        [ 1133,   112,   107,  ...,     0,     0,     0]])\n",
      "Batch 3\n",
      "Documents shape: torch.Size([32, 290])\n",
      "Queries shape: torch.Size([32, 28])\n",
      "Document mask shape: torch.Size([32, 290])\n",
      "Query mask shape: torch.Size([32, 28])\n",
      "Labels shape: torch.Size([32])\n",
      "tensor([[ 1133,   263,    62,  ...,     0,     0,     0],\n",
      "        [ 1133,   543,   263,  ...,     0,     0,     0],\n",
      "        [ 1133, 30630,   224,  ...,     0,     0,     0],\n",
      "        ...,\n",
      "        [ 1133,   543,   263,  ...,     0,     0,     0],\n",
      "        [ 1133,   224,    72,  ...,     0,     0,     0],\n",
      "        [ 1133,   224,   222,  ...,     0,     0,     0]])\n",
      "Batch 4\n",
      "Documents shape: torch.Size([32, 280])\n",
      "Queries shape: torch.Size([32, 30])\n",
      "Document mask shape: torch.Size([32, 280])\n",
      "Query mask shape: torch.Size([32, 30])\n",
      "Labels shape: torch.Size([32])\n",
      "tensor([[ 1133, 42359,   122,  ...,     0,     0,     0],\n",
      "        [ 1133,   263,    62,  ...,     0,     0,     0],\n",
      "        [ 1133,   270,    72,  ...,     0,     0,     0],\n",
      "        ...,\n",
      "        [ 1133,   263,    62,  ...,     0,     0,     0],\n",
      "        [ 1133,   543,   263,  ...,     0,     0,     0],\n",
      "        [ 1133, 30630,   142,  ...,     0,     0,     0]])\n"
     ]
    }
   ],
   "source": [
    "i = 0\n",
    "for docs, queries, doc_mask, query_mask, labels in dataloader:\n",
    "    print('Batch', i + 1)\n",
    "    print(\"Documents shape:\", docs.shape)\n",
    "    print(\"Queries shape:\", queries.shape)\n",
    "    print(\"Document mask shape:\", doc_mask.shape)\n",
    "    print(\"Query mask shape:\", query_mask.shape)\n",
    "    print(\"Labels shape:\", labels.shape)\n",
    "    print(docs)\n",
    "    i += 1\n",
    "    if i > 3:\n",
    "        break  # Just print the first batch\n"
   ]
  },
  {
   "cell_type": "code",
   "execution_count": 93,
   "metadata": {},
   "outputs": [],
   "source": [
    "class TwoTowerModel(nn.Module):\n",
    "    def __init__(self, vocab_size, embedding_dim, hidden_dim, num_layers, embedding_layer):\n",
    "        super(TwoTowerModel, self).__init__()\n",
    "        \n",
    "        self.embedding = embedding_layer\n",
    "\n",
    "        self.doc_rnn = nn.RNN(embedding_dim, hidden_dim, num_layers, batch_first=True)\n",
    "\n",
    "        self.query_rnn = nn.RNN(embedding_dim, hidden_dim, num_layers, batch_first=True)\n",
    "    \n",
    "    def forward(self, doc_ids, query_ids):\n",
    "        # do we need to zero out the hidden state?\n",
    "        doc_embed = self.embedding(doc_ids)\n",
    "        query_embed = self.embedding(query_ids)\n",
    "\n",
    "        _, doc_hidden = self.doc_rnn(doc_embed)\n",
    "        _, query_hidden = self.query_rnn(query_embed)\n",
    "\n",
    "        doc_encoded = doc_hidden[-1] # average across timesteps\n",
    "        query_encoded = query_hidden[-1]\n",
    "        \n",
    "        similarity = F.cosine_similarity(doc_encoded, query_encoded, dim=1)\n",
    "\n",
    "        return similarity\n",
    "\n",
    "    # Loss\n",
    "        # s = cosine_similarity(hd_n, hq_n)\n",
    "        # if relevance == 0, s should be low\n",
    "        # if relevance == 1 or 2, s should be high\n",
    "        \n",
    "    # Backprop\n"
   ]
  },
  {
   "cell_type": "code",
   "execution_count": 94,
   "metadata": {},
   "outputs": [],
   "source": [
    "model = TwoTowerModel(vocab_size=len(vocab), embedding_dim=100, hidden_dim=128, num_layers=1, embedding_layer=embedding_layer)"
   ]
  },
  {
   "cell_type": "code",
   "execution_count": 95,
   "metadata": {},
   "outputs": [
    {
     "name": "stdout",
     "output_type": "stream",
     "text": [
      "TwoTowerModel(\n",
      "  (embedding): Embedding(74792, 100)\n",
      "  (doc_rnn): RNN(100, 128, batch_first=True)\n",
      "  (query_rnn): RNN(100, 128, batch_first=True)\n",
      ")\n"
     ]
    }
   ],
   "source": [
    "print(model)"
   ]
  },
  {
   "cell_type": "code",
   "execution_count": 96,
   "metadata": {},
   "outputs": [
    {
     "data": {
      "text/plain": [
       "TwoTowerModel(\n",
       "  (embedding): Embedding(74792, 100)\n",
       "  (doc_rnn): RNN(100, 128, batch_first=True)\n",
       "  (query_rnn): RNN(100, 128, batch_first=True)\n",
       ")"
      ]
     },
     "execution_count": 96,
     "metadata": {},
     "output_type": "execute_result"
    }
   ],
   "source": [
    "model.eval()"
   ]
  },
  {
   "cell_type": "code",
   "execution_count": 97,
   "metadata": {},
   "outputs": [
    {
     "name": "stdout",
     "output_type": "stream",
     "text": [
      "torch.Size([32, 324])\n",
      "torch.Size([32, 35])\n",
      "torch.Size([32, 324])\n",
      "torch.Size([32, 35])\n",
      "torch.Size([32])\n"
     ]
    }
   ],
   "source": [
    "dataiter = iter(dataloader)\n",
    "docs, queries, doc_mask, query_mask, labels = next(dataiter)\n",
    "\n",
    "print(docs.shape)\n",
    "print(queries.shape)\n",
    "print(doc_mask.shape)\n",
    "print(query_mask.shape)\n",
    "print(labels.shape)"
   ]
  },
  {
   "cell_type": "code",
   "execution_count": 98,
   "metadata": {},
   "outputs": [],
   "source": [
    "doc = docs[0].unsqueeze(0)\n",
    "query = queries[0].unsqueeze(0)"
   ]
  },
  {
   "cell_type": "code",
   "execution_count": 99,
   "metadata": {},
   "outputs": [],
   "source": [
    "with torch.no_grad():\n",
    "    similarity = model(doc, query)"
   ]
  },
  {
   "cell_type": "code",
   "execution_count": 100,
   "metadata": {},
   "outputs": [
    {
     "name": "stdout",
     "output_type": "stream",
     "text": [
      "Input document shape: torch.Size([1, 324])\n",
      "Input query shape: torch.Size([1, 35])\n",
      "Output similarity: -0.022176172584295273\n",
      "\n",
      "Document tokens: [1133, 62, 222, 122, 270, 142, 222, 28, 270, 62, 222, 30630, 308, 263, 62, 62, 222, 330, 72, 62, 122, 543, 263, 263, 224, 62, 107, 222, 28, 270, 62, 222, 122, 42359, 72, 62, 543, 122, 142, 107, 543, 122, 308, 62, 72, 263, 122, 72, 62, 122, 263, 330, 62, 142, 62, 543, 222, 62, 62, 222, 107, 142, 263, 62, 28, 270, 62, 222, 122, 72, 263, 122, 112, 62, 122, 122, 263, 330, 62, 543, 222, 222, 28, 107, 42359, 142, 107, 72, 263, 122, 112, 62, 112, 62, 122, 62, 543, 263, 330, 62, 222, 112, 543, 222, 222, 122, 543, 263, 122, 122, 122, 72, 62, 28, 270, 62, 222, 263, 107, 270, 270, 62, 222, 30630, 72, 28, 28, 270, 62, 222, 107, 62, 222, 62, 263, 122, 122, 263, 62, 222, 28, 270, 62, 222, 28, 62, 72, 107, 62, 142, 72, 122, 122, 62, 122, 30630, 263, 62, 62, 77, 72, 263, 122, 112, 62, 222, 222, 62, 224, 270, 72, 62, 62, 122, 107, 263, 330, 62, 72, 122, 62, 222, 112, 62, 122, 263, 224, 62, 142, 107, 122, 1134, 0, 0, 0, 0, 0, 0, 0, 0, 0, 0, 0, 0, 0, 0, 0, 0, 0, 0, 0, 0, 0, 0, 0, 0, 0, 0, 0, 0, 0, 0, 0, 0, 0, 0, 0, 0, 0, 0, 0, 0, 0, 0, 0, 0, 0, 0, 0, 0, 0, 0, 0, 0, 0, 0, 0, 0, 0, 0, 0, 0, 0, 0, 0, 0, 0, 0, 0, 0, 0, 0, 0, 0, 0, 0, 0, 0, 0, 0, 0, 0, 0, 0, 0, 0, 0, 0, 0, 0, 0, 0, 0, 0, 0, 0, 0, 0, 0, 0, 0, 0, 0, 0, 0, 0, 0, 0, 0, 0, 0, 0, 0, 0, 0, 0, 0, 0, 0, 0, 0, 0, 0, 0, 0, 0, 0, 0, 0, 0, 0, 0, 0, 0]\n",
      "Query tokens: [1133, 543, 263, 142, 270, 107, 77, 62, 122, 62, 107, 62, 142, 222, 1134, 0, 0, 0, 0, 0, 0, 0, 0, 0, 0, 0, 0, 0, 0, 0, 0, 0, 0, 0, 0]\n",
      "\n",
      "True label: 0.0\n"
     ]
    }
   ],
   "source": [
    "\n",
    "print(\"Input document shape:\", doc.shape)\n",
    "print(\"Input query shape:\", query.shape)\n",
    "print(\"Output similarity:\", similarity.item())\n",
    "\n",
    "# If you want to see the actual document and query\n",
    "print(\"\\nDocument tokens:\", doc.squeeze().tolist())\n",
    "print(\"Query tokens:\", query.squeeze().tolist())\n",
    "\n",
    "# If you have a way to convert token IDs back to words, you could use it here\n",
    "# print(\"Document:\", convert_ids_to_words(doc.squeeze().tolist()))\n",
    "# print(\"Query:\", convert_ids_to_words(query.squeeze().tolist()))\n",
    "\n",
    "print(\"\\nTrue label:\", labels[0].item())"
   ]
  },
  {
   "cell_type": "code",
   "execution_count": null,
   "metadata": {},
   "outputs": [],
   "source": []
  }
 ],
 "metadata": {
  "kernelspec": {
   "display_name": "env",
   "language": "python",
   "name": "python3"
  },
  "language_info": {
   "codemirror_mode": {
    "name": "ipython",
    "version": 3
   },
   "file_extension": ".py",
   "mimetype": "text/x-python",
   "name": "python",
   "nbconvert_exporter": "python",
   "pygments_lexer": "ipython3",
   "version": "3.12.7"
  }
 },
 "nbformat": 4,
 "nbformat_minor": 2
}
