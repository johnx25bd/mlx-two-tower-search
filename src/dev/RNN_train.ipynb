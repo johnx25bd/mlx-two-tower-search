{
 "cells": [
  {
   "cell_type": "code",
   "execution_count": 1,
   "metadata": {},
   "outputs": [],
   "source": [
    "import torch\n",
    "import sys\n",
    "import os\n",
    "import torch.nn as nn\n",
    "import torch.optim as optim\n",
    "import torch.nn.functional as F\n",
    "import wandb"
   ]
  },
  {
   "cell_type": "code",
   "execution_count": 2,
   "metadata": {},
   "outputs": [
    {
     "name": "stdout",
     "output_type": "stream",
     "text": [
      "Project root: C:\\Users\\kaleb\\Code\\TwoTowerSearch\n",
      "Current working directory: c:\\Users\\kaleb\\Code\\TwoTowerSearch\n"
     ]
    }
   ],
   "source": [
    "project_root = r\"C:\\Users\\kaleb\\Code\\TwoTowerSearch\"\n",
    "\n",
    "if project_root not in sys.path:\n",
    "    sys.path.append(project_root)\n",
    "\n",
    "print(\"Project root:\", project_root)\n",
    "print(\"Current working directory:\", os.getcwd())"
   ]
  },
  {
   "cell_type": "code",
   "execution_count": 3,
   "metadata": {},
   "outputs": [],
   "source": [
    "from src.dev.RNN_encoder import RNNEncoder"
   ]
  },
  {
   "cell_type": "code",
   "execution_count": 4,
   "metadata": {},
   "outputs": [],
   "source": [
    "# generate random embeddings with size torch.Size([100038, 100])\n",
    "lookup_embeddings = torch.randn(100038, 100)"
   ]
  },
  {
   "cell_type": "code",
   "execution_count": 5,
   "metadata": {},
   "outputs": [],
   "source": [
    "# prepare embeddings for rnn encoder by ordering them in a batch\n",
    "# we are using a batch size of 10: 5 relevant docs and 5 non relevant docs for a single query\n",
    "\n",
    "# generate random batch of embeddings\n",
    "query_embeddings = torch.randn(5000, 100)\n",
    "doc_embeddings = torch.randn(50000, 100)\n",
    "\n",
    "batch_size = 10"
   ]
  },
  {
   "cell_type": "code",
   "execution_count": 6,
   "metadata": {},
   "outputs": [],
   "source": [
    "def triplet_loss_function(query, relevant_documents, irrelevant_documents, margin):\n",
    "    # Calculate cosine distances\n",
    "    relevant_distances = 1 - F.cosine_similarity(query, relevant_documents, dim=1)\n",
    "    irrelevant_distances = 1 - F.cosine_similarity(query, irrelevant_documents, dim=1)\n",
    "\n",
    "    # Calculate triplet loss for each relevant and irrelevant pair\n",
    "    triplet_loss = F.relu(relevant_distances - irrelevant_distances + margin).mean()\n",
    "    return triplet_loss"
   ]
  },
  {
   "cell_type": "code",
   "execution_count": 8,
   "metadata": {},
   "outputs": [],
   "source": [
    "device = torch.device(\"cuda\" if torch.cuda.is_available() else \"cpu\")"
   ]
  },
  {
   "cell_type": "code",
   "execution_count": 7,
   "metadata": {},
   "outputs": [],
   "source": [
    "# Define parameters\n",
    "input_dim = 100\n",
    "hidden_dim = 128\n",
    "num_layers = 1\n",
    "bidirectional = True\n",
    "num_epochs = 10\n",
    "query_sequence_length = 30\n",
    "doc_sequence_length = 400\n",
    "num_relevant = 5\n",
    "num_irrelevant = 5"
   ]
  },
  {
   "cell_type": "code",
   "execution_count": 10,
   "metadata": {},
   "outputs": [
    {
     "name": "stderr",
     "output_type": "stream",
     "text": [
      "Failed to detect the name of this notebook, you can set it manually with the WANDB_NOTEBOOK_NAME environment variable to enable code saving.\n",
      "wandb: Using wandb-core as the SDK backend. Please refer to https://wandb.me/wandb-core for more information.\n",
      "wandb: Logging into wandb.ai. (Learn how to deploy a W&B server locally: https://wandb.me/wandb-server)\n",
      "wandb: You can find your API key in your browser here: https://wandb.ai/authorize\n",
      "wandb: Paste an API key from your profile and hit enter, or press ctrl+c to quit:"
     ]
    }
   ],
   "source": [
    "# Initialize wandb\n",
    "wandb.init(\n",
    "    project=\"TwoTowers\",\n",
    "    name=\"recovering\",\n",
    "    config={\n",
    "        \"batch_size\": num_relevant + num_irrelevant,\n",
    "        \"query_sequence_length\": query_sequence_length,\n",
    "        \"doc_sequence_length\": doc_sequence_length,\n",
    "        \"embed_dims\": input_dim,\n",
    "    },\n",
    ")"
   ]
  },
  {
   "cell_type": "code",
   "execution_count": 9,
   "metadata": {},
   "outputs": [],
   "source": [
    "query_encoder = RNNEncoder(\n",
    "    input_dim=input_dim,\n",
    "    hidden_dim=hidden_dim,\n",
    "    num_layers=num_layers,\n",
    "    bidirectional=bidirectional,\n",
    ").to(device)\n",
    "doc_encoder = RNNEncoder(\n",
    "    input_dim=input_dim,\n",
    "    hidden_dim=hidden_dim,\n",
    "    num_layers=num_layers,\n",
    "    bidirectional=bidirectional,\n",
    ").to(device)"
   ]
  },
  {
   "cell_type": "code",
   "execution_count": 10,
   "metadata": {},
   "outputs": [],
   "source": [
    "# Define optimizer\n",
    "optimizer = optim.Adam(\n",
    "    list(query_encoder.parameters()) + list(doc_encoder.parameters()), lr=0.001\n",
    ")\n",
    "margin = 1.0"
   ]
  },
  {
   "cell_type": "code",
   "execution_count": null,
   "metadata": {},
   "outputs": [],
   "source": [
    "# Improved input retrieval\n",
    "query_input = query_embeddings[:1, :query_sequence_length, :input_dim]\n",
    "# Pad or truncate the query to have a fixed length of query_sequence_length\n",
    "if query_input.shape[1] < query_sequence_length:\n",
    "    padding = torch.zeros((1, query_sequence_length - query_input.shape[1], input_dim))\n",
    "    query_input = torch.cat((query_input, padding), dim=1)\n",
    "else:\n",
    "    query_input = query_input[\n",
    "        :, :query_sequence_length, :input_dim\n",
    "    ]  # Single query, shape (1, sequence_length, input_dim)\n",
    "relevant_doc_input = doc_embeddings[:num_relevant, :doc_sequence_length, :input_dim]\n",
    "# Pad or truncate documents to have a fixed maximum length of doc_sequence_length\n",
    "if relevant_doc_input.shape[1] < doc_sequence_length:\n",
    "    padding = torch.zeros(\n",
    "        (num_relevant, doc_sequence_length - relevant_doc_input.shape[1], input_dim)\n",
    "    )\n",
    "    relevant_doc_input = torch.cat((relevant_doc_input, padding), dim=1)\n",
    "else:\n",
    "    relevant_doc_input = relevant_doc_input[\n",
    "        :, :doc_sequence_length, :input_dim\n",
    "    ]  # Relevant documents, shape (num_relevant, sequence_length, input_dim)\n",
    "irrelevant_doc_input = doc_embeddings[\n",
    "    num_relevant : num_relevant + num_irrelevant, :doc_sequence_length, :input_dim\n",
    "]\n",
    "# Pad or truncate documents to have a fixed maximum length of doc_sequence_length\n",
    "if irrelevant_doc_input.shape[1] < doc_sequence_length:\n",
    "    padding = torch.zeros(\n",
    "        (num_irrelevant, doc_sequence_length - irrelevant_doc_input.shape[1], input_dim)\n",
    "    )\n",
    "    irrelevant_doc_input = torch.cat((irrelevant_doc_input, padding), dim=1)\n",
    "else:\n",
    "    irrelevant_doc_input = irrelevant_doc_input[\n",
    "        :, :doc_sequence_length, :input_dim\n",
    "    ]  # Irrelevant documents, shape (num_irrelevant, sequence_length, input_dim)"
   ]
  },
  {
   "cell_type": "code",
   "execution_count": null,
   "metadata": {},
   "outputs": [],
   "source": [
    "# Move inputs to the appropriate device\n",
    "query_input = query_input.to(device)\n",
    "relevant_doc_input = relevant_doc_input.to(device)\n",
    "irrelevant_doc_input = irrelevant_doc_input.to(device)"
   ]
  },
  {
   "cell_type": "code",
   "execution_count": null,
   "metadata": {},
   "outputs": [],
   "source": [
    "# Training loop\n",
    "for epoch in range(num_epochs):\n",
    "    # Get query and document embeddings\n",
    "    query_embedding = query_encoder(query_input).repeat(\n",
    "        num_relevant + num_irrelevant, 1\n",
    "    )\n",
    "    relevant_doc_embeddings = doc_encoder(relevant_doc_input)\n",
    "    irrelevant_doc_embeddings = doc_encoder(irrelevant_doc_input)\n",
    "\n",
    "    # Compute the triplet loss\n",
    "    loss = triplet_loss_function(\n",
    "        query_embedding, relevant_doc_embeddings, irrelevant_doc_embeddings, margin\n",
    "    )\n",
    "\n",
    "    # Backward pass to compute gradients\n",
    "    loss.backward()\n",
    "\n",
    "    # Update the parameters\n",
    "    optimizer.step()\n",
    "\n",
    "    # Zero the gradients after updating\n",
    "    optimizer.zero_grad()\n",
    "\n",
    "    # Log the loss to wandb\n",
    "    wandb.log({\"loss\": loss.item()})\n",
    "\n",
    "    # Save the model\n",
    "    save_path = f\"src/models/twotowers/RNN_epoch_{epoch}.pth\"\n",
    "    torch.save(\n",
    "        {\n",
    "            \"query_encoder_state_dict\": query_encoder.state_dict(),\n",
    "            \"doc_encoder_state_dict\": doc_encoder.state_dict(),\n",
    "            \"optimizer_state_dict\": optimizer.state_dict(),\n",
    "        },\n",
    "        save_path,\n",
    "    )\n",
    "\n",
    "    print(f\"Epoch [{epoch+1}/{num_epochs}], Loss: {loss.item():.4f}\")\n",
    "\n",
    "wandb.finish()\n",
    "print(\"Training complete.\")"
   ]
  },
  {
   "cell_type": "code",
   "execution_count": null,
   "metadata": {},
   "outputs": [],
   "source": [
    "print(\n",
    "    \"Query Embedding Shape:\", query_embedding.shape\n",
    ")  # Expected shape: (num_relevant + num_irrelevant, hidden_dim * 2) if bidirectional else (num_relevant + num_irrelevant, hidden_dim)\n",
    "print(\n",
    "    \"Relevant Document Embedding Shape:\", relevant_doc_embeddings.shape\n",
    ")  # Expected shape: (num_relevant, hidden_dim * 2) if bidirectional else (num_relevant, hidden_dim)\n",
    "print(\n",
    "    \"Irrelevant Document Embedding Shape:\", irrelevant_doc_embeddings.shape\n",
    ")  # Expected shape: (num_irrelevant, hidden_dim * 2) if bidirectional else (num_irrelevant, hidden_dim)"
   ]
  },
  {
   "cell_type": "code",
   "execution_count": null,
   "metadata": {},
   "outputs": [],
   "source": []
  }
 ],
 "metadata": {
  "kernelspec": {
   "display_name": "env",
   "language": "python",
   "name": "python3"
  },
  "language_info": {
   "codemirror_mode": {
    "name": "ipython",
    "version": 3
   },
   "file_extension": ".py",
   "mimetype": "text/x-python",
   "name": "python",
   "nbconvert_exporter": "python",
   "pygments_lexer": "ipython3",
   "version": "3.12.4"
  }
 },
 "nbformat": 4,
 "nbformat_minor": 2
}
