{
 "cells": [
  {
   "cell_type": "code",
   "execution_count": 1,
   "metadata": {},
   "outputs": [],
   "source": [
    "import torch\n",
    "import os\n",
    "from tqdm import tqdm\n",
    "import gensim\n",
    "import torch.optim as optim\n",
    "import torch.nn.functional as F\n",
    "import wandb\n",
    "import pandas as pd\n",
    "from tqdm import tqdm\n",
    "\n",
    "# from RNN_encoder import RNNEncoder\n",
    "from src.dev.RNN_encoder import RNNEncoder\n",
    "from src.utils.training_functions import (\n",
    "    prepare_dataloader,\n",
    "    compute_triplet_loss,\n",
    "    save_model,\n",
    ")"
   ]
  },
  {
   "cell_type": "code",
   "execution_count": 2,
   "metadata": {},
   "outputs": [
    {
     "data": {
      "text/plain": [
       "device(type='cpu')"
      ]
     },
     "execution_count": 2,
     "metadata": {},
     "output_type": "execute_result"
    }
   ],
   "source": [
    "device = torch.device(\"cuda\" if torch.cuda.is_available() else \"cpu\")\n",
    "device"
   ]
  },
  {
   "cell_type": "code",
   "execution_count": 3,
   "metadata": {},
   "outputs": [],
   "source": [
    "batch_size = 1\n",
    "\n",
    "indexes = pd.read_parquet(os.path.join(\"data\", \"processed\", \"list_of_indexes.parquet\"))\n",
    "# indexes = pd.read_parquet(\"list_of_indexes.parquet\")\n",
    "indexes = indexes.sample(frac=0.1).reset_index(drop=True)  # sample for local training"
   ]
  },
  {
   "cell_type": "code",
   "execution_count": 4,
   "metadata": {},
   "outputs": [
    {
     "data": {
      "text/html": [
       "<div>\n",
       "<style scoped>\n",
       "    .dataframe tbody tr th:only-of-type {\n",
       "        vertical-align: middle;\n",
       "    }\n",
       "\n",
       "    .dataframe tbody tr th {\n",
       "        vertical-align: top;\n",
       "    }\n",
       "\n",
       "    .dataframe thead th {\n",
       "        text-align: right;\n",
       "    }\n",
       "</style>\n",
       "<table border=\"1\" class=\"dataframe\">\n",
       "  <thead>\n",
       "    <tr style=\"text-align: right;\">\n",
       "      <th></th>\n",
       "      <th>query_indexes</th>\n",
       "      <th>relevant_doc_indexes</th>\n",
       "      <th>irrelevant_doc_indexes</th>\n",
       "    </tr>\n",
       "  </thead>\n",
       "  <tbody>\n",
       "    <tr>\n",
       "      <th>0</th>\n",
       "      <td>[3, 9192, 2208]</td>\n",
       "      <td>[11825, 708, 3, 9192, 995, 9192, 2292, 896, 91...</td>\n",
       "      <td>[145, 41578, 19026, 16509, 632, 1539, 864, 203...</td>\n",
       "    </tr>\n",
       "  </tbody>\n",
       "</table>\n",
       "</div>"
      ],
      "text/plain": [
       "     query_indexes                               relevant_doc_indexes  \\\n",
       "0  [3, 9192, 2208]  [11825, 708, 3, 9192, 995, 9192, 2292, 896, 91...   \n",
       "\n",
       "                              irrelevant_doc_indexes  \n",
       "0  [145, 41578, 19026, 16509, 632, 1539, 864, 203...  "
      ]
     },
     "execution_count": 4,
     "metadata": {},
     "output_type": "execute_result"
    }
   ],
   "source": [
    "# # get first row\n",
    "# indexes = indexes.iloc[0:10]\n",
    "# indexes.head(1)"
   ]
  },
  {
   "cell_type": "code",
   "execution_count": 5,
   "metadata": {},
   "outputs": [
    {
     "data": {
      "text/plain": [
       "10000"
      ]
     },
     "execution_count": 5,
     "metadata": {},
     "output_type": "execute_result"
    }
   ],
   "source": [
    "# # duplicate first 2 rows 100 times\n",
    "# indexes = pd.concat([indexes] * 1000, ignore_index=True)\n",
    "# len(indexes)"
   ]
  },
  {
   "cell_type": "code",
   "execution_count": null,
   "metadata": {},
   "outputs": [],
   "source": []
  },
  {
   "cell_type": "code",
   "execution_count": 4,
   "metadata": {},
   "outputs": [],
   "source": [
    "training_data = prepare_dataloader(indexes, batch_size=1, padding_value=0.0)"
   ]
  },
  {
   "cell_type": "code",
   "execution_count": 5,
   "metadata": {},
   "outputs": [],
   "source": [
    "# creating the embedding lookup\n",
    "w2v = gensim.models.Word2Vec.load(\n",
    "    \"src/models/word2vec-gensim-text8-custom-preprocess.model\"\n",
    ")\n",
    "vocab = w2v.wv.index_to_key\n",
    "\n",
    "\n",
    "\n",
    "word_to_idx = {word: i for i, word in enumerate(vocab)}\n",
    "\n",
    "\n",
    "\n",
    "embedding_lookup = torch.tensor(w2v.wv.vectors)"
   ]
  },
  {
   "cell_type": "code",
   "execution_count": 6,
   "metadata": {},
   "outputs": [],
   "source": [
    "embedding_dim = 100\n",
    "hidden_dim = 128\n",
    "num_layers = 3\n",
    "embedding_lookup = embedding_lookup.to(device)\n",
    "\n",
    "margin = 1\n",
    "num_epochs = 2"
   ]
  },
  {
   "cell_type": "code",
   "execution_count": 7,
   "metadata": {},
   "outputs": [],
   "source": [
    "encoder = RNNEncoder(\n",
    "    embedding_lookup=embedding_lookup,\n",
    "    hidden_dim=hidden_dim,\n",
    "    num_layers=num_layers,\n",
    ").to(device)\n",
    "\n",
    "optimizer = optim.Adam(list(encoder.parameters()), lr=0.001)"
   ]
  },
  {
   "cell_type": "code",
   "execution_count": 8,
   "metadata": {},
   "outputs": [
    {
     "name": "stderr",
     "output_type": "stream",
     "text": [
      "Failed to detect the name of this notebook, you can set it manually with the WANDB_NOTEBOOK_NAME environment variable to enable code saving.\n",
      "wandb: Using wandb-core as the SDK backend. Please refer to https://wandb.me/wandb-core for more information.\n",
      "wandb: Currently logged in as: kaleb-sofer (kaleb-sofer-mlx). Use `wandb login --relogin` to force relogin\n"
     ]
    },
    {
     "data": {
      "text/html": [
       "Tracking run with wandb version 0.18.5"
      ],
      "text/plain": [
       "<IPython.core.display.HTML object>"
      ]
     },
     "metadata": {},
     "output_type": "display_data"
    },
    {
     "data": {
      "text/html": [
       "Run data is saved locally in <code>c:\\Users\\kaleb\\Code\\TwoTowerSearch\\wandb\\run-20241024_165356-t855g9ai</code>"
      ],
      "text/plain": [
       "<IPython.core.display.HTML object>"
      ]
     },
     "metadata": {},
     "output_type": "display_data"
    },
    {
     "data": {
      "text/html": [
       "Syncing run <strong><a href='https://wandb.ai/kaleb-sofer-mlx/RNN%20training/runs/t855g9ai' target=\"_blank\">run_20241024_165350</a></strong> to <a href='https://wandb.ai/kaleb-sofer-mlx/RNN%20training' target=\"_blank\">Weights & Biases</a> (<a href='https://wandb.me/run' target=\"_blank\">docs</a>)<br/>"
      ],
      "text/plain": [
       "<IPython.core.display.HTML object>"
      ]
     },
     "metadata": {},
     "output_type": "display_data"
    },
    {
     "data": {
      "text/html": [
       " View project at <a href='https://wandb.ai/kaleb-sofer-mlx/RNN%20training' target=\"_blank\">https://wandb.ai/kaleb-sofer-mlx/RNN%20training</a>"
      ],
      "text/plain": [
       "<IPython.core.display.HTML object>"
      ]
     },
     "metadata": {},
     "output_type": "display_data"
    },
    {
     "data": {
      "text/html": [
       " View run at <a href='https://wandb.ai/kaleb-sofer-mlx/RNN%20training/runs/t855g9ai' target=\"_blank\">https://wandb.ai/kaleb-sofer-mlx/RNN%20training/runs/t855g9ai</a>"
      ],
      "text/plain": [
       "<IPython.core.display.HTML object>"
      ]
     },
     "metadata": {},
     "output_type": "display_data"
    },
    {
     "name": "stderr",
     "output_type": "stream",
     "text": [
      "Training:   3%|▎         | 3489/130924 [08:18<5:23:06,  6.57it/s]"
     ]
    },
    {
     "ename": "",
     "evalue": "",
     "output_type": "error",
     "traceback": [
      "\u001b[1;31mThe Kernel crashed while executing code in the current cell or a previous cell. \n",
      "\u001b[1;31mPlease review the code in the cell(s) to identify a possible cause of the failure. \n",
      "\u001b[1;31mClick <a href='https://aka.ms/vscodeJupyterKernelCrash'>here</a> for more info. \n",
      "\u001b[1;31mView Jupyter <a href='command:jupyter.viewOutput'>log</a> for further details."
     ]
    }
   ],
   "source": [
    "from datetime import datetime\n",
    "\n",
    "wandb.init(\n",
    "    project=\"RNN training\",\n",
    "    name=f\"run_{datetime.now().strftime('%Y%m%d_%H%M%S')}\",\n",
    "    reinit=True,\n",
    ")\n",
    "\n",
    "total_steps = num_epochs * len(training_data)\n",
    "\n",
    "progress_bar = tqdm(total=total_steps, desc=\"Training\")\n",
    "\n",
    "for epoch in range(num_epochs):\n",
    "    encoder.train()\n",
    "\n",
    "    total_loss = 0.0\n",
    "\n",
    "    for batch_idx, batch in enumerate(training_data):\n",
    "        query, query_lengths, relevant, rel_lengths, irrelevant, irrel_lengths = batch\n",
    "\n",
    "        query = query.to(device)\n",
    "        relevant = relevant.to(device)\n",
    "        irrelevant = irrelevant.to(device)\n",
    "\n",
    "        query_lengths = query_lengths.to(device)\n",
    "        rel_lengths = rel_lengths.to(device)\n",
    "        irrel_lengths = irrel_lengths.to(device)\n",
    "\n",
    "        query_encoded = encoder(query, query_lengths)\n",
    "        relevant_encoded = encoder(relevant, rel_lengths)\n",
    "        irrelevant_encoded = encoder(irrelevant, irrel_lengths)\n",
    "\n",
    "        loss = compute_triplet_loss(\n",
    "            query_encoded, relevant_encoded, irrelevant_encoded, margin\n",
    "        )\n",
    "\n",
    "        optimizer.zero_grad()\n",
    "        loss.backward()\n",
    "\n",
    "        optimizer.step()\n",
    "\n",
    "        total_loss += loss.item()\n",
    "\n",
    "        wandb.log({\"loss\": loss.item()})\n",
    "\n",
    "        progress_bar.update(1)\n",
    "\n",
    "    save_path = f\"RNN_epoch_{epoch}.pth\"\n",
    "    save_model(epoch, save_path)\n",
    "\n",
    "    avg_loss = total_loss / len(training_data)\n",
    "    progress_bar.set_postfix({\"Epoch\": epoch + 1, \"Avg Loss\": f\"{avg_loss:.4f}\"})\n",
    "\n",
    "# Close the progress bar when training is complete\n",
    "progress_bar.close()\n",
    "wandb.finish()\n",
    "\n",
    "print(\"Training complete.\")"
   ]
  },
  {
   "cell_type": "code",
   "execution_count": null,
   "metadata": {},
   "outputs": [],
   "source": []
  }
 ],
 "metadata": {
  "kernelspec": {
   "display_name": "Python 3 (ipykernel)",
   "language": "python",
   "name": "python3"
  },
  "language_info": {
   "codemirror_mode": {
    "name": "ipython",
    "version": 3
   },
   "file_extension": ".py",
   "mimetype": "text/x-python",
   "name": "python",
   "nbconvert_exporter": "python",
   "pygments_lexer": "ipython3",
   "version": "3.10.12"
  }
 },
 "nbformat": 4,
 "nbformat_minor": 4
}
