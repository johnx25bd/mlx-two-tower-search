{
 "cells": [
  {
   "cell_type": "code",
   "execution_count": 8,
   "metadata": {},
   "outputs": [],
   "source": [
    "import torch\n",
    "import os\n",
    "import sys\n",
    "\n",
    "import torch.optim as optim\n",
    "import torch.nn.functional as F\n",
    "import wandb\n",
    "import pandas as pd\n",
    "import pickle\n",
    "from torch.utils.data import DataLoader, TensorDataset"
   ]
  },
  {
   "cell_type": "code",
   "execution_count": 2,
   "metadata": {},
   "outputs": [],
   "source": [
    "from src.dev.RNN_encoder import RNNEncoder"
   ]
  },
  {
   "cell_type": "code",
   "execution_count": 3,
   "metadata": {},
   "outputs": [],
   "source": [
    "# project_root = r\"C:\\Users\\kaleb\\Code\\TwoTowerSearch\"\n",
    "\n",
    "# if project_root not in sys.path:\n",
    "#     sys.path.append(project_root)\n",
    "\n",
    "# print(\"Project root:\", project_root)\n",
    "# print(\"Current working directory:\", os.getcwd())"
   ]
  },
  {
   "cell_type": "code",
   "execution_count": 4,
   "metadata": {},
   "outputs": [
    {
     "data": {
      "text/plain": [
       "'\\nFor this script to work, incoming embeddings need to be prepared as follows:\\n[query_embedding, relevant_embedding, irrelevant_embedding]\\n\\ne.g. for 1 query with 3 relevant and 3 irrelevant docs:\\n\\n[\\n[[query_embedding_1], [relevant_embedding_1], [irrelevant_embedding_1]],\\n[[query_embedding_1], [relevant_embedding_2], [irrelevant_embedding_2]],\\n[[query_embedding_1], [relevant_embedding_3], [irrelevant_embedding_3]]\\n]\\n'"
      ]
     },
     "execution_count": 4,
     "metadata": {},
     "output_type": "execute_result"
    }
   ],
   "source": [
    "\"\"\"\n",
    "For this script to work, incoming embeddings need to be prepared as follows:\n",
    "[query_embedding, relevant_embedding, irrelevant_embedding]\n",
    "\n",
    "e.g. for 1 query with 3 relevant and 3 irrelevant docs:\n",
    "\n",
    "[\n",
    "[[query_embedding_1], [relevant_embedding_1], [irrelevant_embedding_1]],\n",
    "[[query_embedding_1], [relevant_embedding_2], [irrelevant_embedding_2]],\n",
    "[[query_embedding_1], [relevant_embedding_3], [irrelevant_embedding_3]]\n",
    "]\n",
    "\"\"\""
   ]
  },
  {
   "cell_type": "code",
   "execution_count": 4,
   "metadata": {},
   "outputs": [
    {
     "data": {
      "text/plain": [
       "device(type='cpu')"
      ]
     },
     "execution_count": 4,
     "metadata": {},
     "output_type": "execute_result"
    }
   ],
   "source": [
    "device = torch.device(\"cuda\" if torch.cuda.is_available() else \"cpu\")\n",
    "device"
   ]
  },
  {
   "cell_type": "code",
   "execution_count": 6,
   "metadata": {},
   "outputs": [],
   "source": [
    "# # To load the data:\n",
    "# file_path = os.path.join(\"data\", \"processed\", \"list_of_indexes.pt\")\n",
    "\n",
    "# loaded_data = torch.load(file_path)\n",
    "# query_indexes = loaded_data[\"query_\"]\n",
    "# rel_doc_indexes = loaded_data[\"re\"]\n",
    "# irrel_doc_embeddings = loaded_data[\"irrel_doc_embeddings\"]"
   ]
  },
  {
   "cell_type": "code",
   "execution_count": 18,
   "metadata": {},
   "outputs": [],
   "source": [
    "from torch.nn.utils.rnn import pad_sequence\n",
    "\n",
    "batch_size = 10\n",
    "\n",
    "\n",
    "indexes = pd.read_parquet(os.path.join(\"data\", \"processed\", \"list_of_indexes.parquet\"))\n",
    "indexes = indexes.sample(frac=0.1)  # sample for local training\n",
    "\n",
    "query_idx = indexes[\"query_indexes\"]\n",
    "rel_doc_idx = indexes[\"relevant_doc_indexes\"]\n",
    "irrel_doc_idx = indexes[\"irrelevant_doc_indexes\"]\n",
    "\n",
    "query_idx = [torch.tensor(seq) for seq in query_idx]\n",
    "rel_doc_idx = [torch.tensor(seq) for seq in rel_doc_idx]\n",
    "irrel_doc_idx = [torch.tensor(seq) for seq in irrel_doc_idx]\n",
    "\n",
    "query_idx = pad_sequence(query_idx, batch_first=True, padding_value=0)\n",
    "rel_doc_idx = pad_sequence(rel_doc_idx, batch_first=True, padding_value=0)\n",
    "irrel_doc_idx = pad_sequence(irrel_doc_idx, batch_first=True, padding_value=0)\n",
    "\n",
    "dataset = TensorDataset(query_idx, rel_doc_idx, irrel_doc_idx)\n",
    "training_data = DataLoader(dataset, batch_size=batch_size, shuffle=True)"
   ]
  },
  {
   "cell_type": "code",
   "execution_count": 19,
   "metadata": {},
   "outputs": [
    {
     "name": "stdout",
     "output_type": "stream",
     "text": [
      "torch.Size([10, 12]) torch.Size([10, 105]) torch.Size([10, 114])\n",
      "torch.Size([10, 12]) torch.Size([10, 105]) torch.Size([10, 114])\n",
      "torch.Size([10, 12]) torch.Size([10, 105]) torch.Size([10, 114])\n",
      "torch.Size([10, 12]) torch.Size([10, 105]) torch.Size([10, 114])\n",
      "torch.Size([10, 12]) torch.Size([10, 105]) torch.Size([10, 114])\n",
      "torch.Size([10, 12]) torch.Size([10, 105]) torch.Size([10, 114])\n",
      "torch.Size([10, 12]) torch.Size([10, 105]) torch.Size([10, 114])\n",
      "torch.Size([10, 12]) torch.Size([10, 105]) torch.Size([10, 114])\n",
      "torch.Size([10, 12]) torch.Size([10, 105]) torch.Size([10, 114])\n",
      "torch.Size([10, 12]) torch.Size([10, 105]) torch.Size([10, 114])\n"
     ]
    }
   ],
   "source": [
    "# just print first 10 batches\n",
    "for i, batch in enumerate(training_data):\n",
    "    if i >= 10:\n",
    "        break\n",
    "    query_batch, rel_doc_batch, irrel_doc_batch = batch\n",
    "    print(query_batch.shape, rel_doc_batch.shape, irrel_doc_batch.shape)"
   ]
  },
  {
   "cell_type": "code",
   "execution_count": 10,
   "metadata": {},
   "outputs": [],
   "source": [
    "input_dim = 100\n",
    "hidden_dim = 128\n",
    "num_layers = 1\n",
    "bidirectional = False\n",
    "num_epochs = 3\n",
    "margin = 1.0"
   ]
  },
  {
   "cell_type": "code",
   "execution_count": 11,
   "metadata": {},
   "outputs": [],
   "source": [
    "# Create an instance of the RNNEncoder for queries and documents\n",
    "query_encoder = RNNEncoder(\n",
    "    input_dim=input_dim,\n",
    "    hidden_dim=hidden_dim,\n",
    "    num_layers=num_layers,\n",
    "    bidirectional=bidirectional,\n",
    ").to(device)\n",
    "\n",
    "doc_encoder = RNNEncoder(\n",
    "    input_dim=input_dim,\n",
    "    hidden_dim=hidden_dim,\n",
    "    num_layers=num_layers,\n",
    "    bidirectional=bidirectional,\n",
    ").to(device)"
   ]
  },
  {
   "cell_type": "code",
   "execution_count": 12,
   "metadata": {},
   "outputs": [],
   "source": [
    "# Define optimizer\n",
    "optimizer = optim.Adam(\n",
    "    list(query_encoder.parameters()) + list(doc_encoder.parameters()), lr=0.001\n",
    ")"
   ]
  },
  {
   "cell_type": "code",
   "execution_count": 16,
   "metadata": {},
   "outputs": [],
   "source": [
    "def compute_triplet_loss(query_encoded, relevant_encoded, irrelevant_encoded, margin):\n",
    "    relevant_distances = 1 - F.cosine_similarity(query_encoded, relevant_encoded, dim=1)\n",
    "    irrelevant_distances = 1 - F.cosine_similarity(\n",
    "        query_encoded, irrelevant_encoded, dim=1\n",
    "    )\n",
    "\n",
    "    triplet_loss = F.relu(relevant_distances - irrelevant_distances + margin).mean()\n",
    "    return triplet_loss\n",
    "\n",
    "\n",
    "def save_model(epoch, save_path):\n",
    "\n",
    "    torch.save(\n",
    "        {\n",
    "            \"query_encoder_state_dict\": query_encoder.state_dict(),\n",
    "            \"doc_encoder_state_dict\": doc_encoder.state_dict(),\n",
    "            \"optimizer_state_dict\": optimizer.state_dict(),\n",
    "        },\n",
    "        save_path,\n",
    "    )"
   ]
  },
  {
   "cell_type": "code",
   "execution_count": 14,
   "metadata": {},
   "outputs": [
    {
     "name": "stderr",
     "output_type": "stream",
     "text": [
      "Failed to detect the name of this notebook, you can set it manually with the WANDB_NOTEBOOK_NAME environment variable to enable code saving.\n",
      "wandb: Using wandb-core as the SDK backend. Please refer to https://wandb.me/wandb-core for more information.\n",
      "wandb: Logging into wandb.ai. (Learn how to deploy a W&B server locally: https://wandb.me/wandb-server)\n",
      "wandb: You can find your API key in your browser here: https://wandb.ai/authorize\n",
      "wandb: Paste an API key from your profile and hit enter, or press ctrl+c to quit:wandb: Paste an API key from your profile and hit enter, or press ctrl+c to quit:wandb: Appending key for api.wandb.ai to your netrc file: C:\\Users\\kaleb\\_netrc\n"
     ]
    },
    {
     "data": {
      "text/html": [
       "Tracking run with wandb version 0.18.5"
      ],
      "text/plain": [
       "<IPython.core.display.HTML object>"
      ]
     },
     "metadata": {},
     "output_type": "display_data"
    },
    {
     "data": {
      "text/html": [
       "Run data is saved locally in <code>c:\\Users\\kaleb\\Code\\TwoTowerSearch\\wandb\\run-20241023_170116-ux5yrivi</code>"
      ],
      "text/plain": [
       "<IPython.core.display.HTML object>"
      ]
     },
     "metadata": {},
     "output_type": "display_data"
    },
    {
     "data": {
      "text/html": [
       "Syncing run <strong><a href='https://wandb.ai/kaleb-sofer-mlx/TwoTowers/runs/ux5yrivi' target=\"_blank\">recovering</a></strong> to <a href='https://wandb.ai/kaleb-sofer-mlx/TwoTowers' target=\"_blank\">Weights & Biases</a> (<a href='https://wandb.me/run' target=\"_blank\">docs</a>)<br/>"
      ],
      "text/plain": [
       "<IPython.core.display.HTML object>"
      ]
     },
     "metadata": {},
     "output_type": "display_data"
    },
    {
     "data": {
      "text/html": [
       " View project at <a href='https://wandb.ai/kaleb-sofer-mlx/TwoTowers' target=\"_blank\">https://wandb.ai/kaleb-sofer-mlx/TwoTowers</a>"
      ],
      "text/plain": [
       "<IPython.core.display.HTML object>"
      ]
     },
     "metadata": {},
     "output_type": "display_data"
    },
    {
     "data": {
      "text/html": [
       " View run at <a href='https://wandb.ai/kaleb-sofer-mlx/TwoTowers/runs/ux5yrivi' target=\"_blank\">https://wandb.ai/kaleb-sofer-mlx/TwoTowers/runs/ux5yrivi</a>"
      ],
      "text/plain": [
       "<IPython.core.display.HTML object>"
      ]
     },
     "metadata": {},
     "output_type": "display_data"
    },
    {
     "data": {
      "text/html": [
       "<button onClick=\"this.nextSibling.style.display='block';this.style.display='none';\">Display W&B run</button><iframe src='https://wandb.ai/kaleb-sofer-mlx/TwoTowers/runs/ux5yrivi?jupyter=true' style='border:none;width:100%;height:420px;display:none;'></iframe>"
      ],
      "text/plain": [
       "<wandb.sdk.wandb_run.Run at 0x2a507fac740>"
      ]
     },
     "execution_count": 14,
     "metadata": {},
     "output_type": "execute_result"
    }
   ],
   "source": [
    "wandb.init(\n",
    "    project=\"TwoTowers\",\n",
    "    name=\"recovering\",\n",
    "    config={\n",
    "        \"input_dim\": input_dim,\n",
    "        \"hidden_dim\": hidden_dim,\n",
    "        \"num_layers\": num_layers,\n",
    "        \"bidirectional\": bidirectional,\n",
    "        \"margin\": margin,\n",
    "    },\n",
    ")"
   ]
  },
  {
   "cell_type": "code",
   "execution_count": 19,
   "metadata": {},
   "outputs": [
    {
     "name": "stdout",
     "output_type": "stream",
     "text": [
      "Epoch [1/3], Loss: 1.4495\n",
      "Epoch [2/3], Loss: 0.8880\n",
      "Epoch [3/3], Loss: 1.0000\n"
     ]
    },
    {
     "data": {
      "text/html": [
       "<style>\n",
       "    table.wandb td:nth-child(1) { padding: 0 10px; text-align: left ; width: auto;} td:nth-child(2) {text-align: left ; width: 100%}\n",
       "    .wandb-row { display: flex; flex-direction: row; flex-wrap: wrap; justify-content: flex-start; width: 100% }\n",
       "    .wandb-col { display: flex; flex-direction: column; flex-basis: 100%; flex: 1; padding: 10px; }\n",
       "    </style>\n",
       "<div class=\"wandb-row\"><div class=\"wandb-col\"><h3>Run history:</h3><br/><table class=\"wandb\"><tr><td>loss</td><td>▅▅▅▅▅▅▅▅▅▄▃▅▅▆▄▅▄▅▄▆▂▅▁█▇▆▇▃▅▇▅▆▆▅█▇▃▃▅▅</td></tr></table><br/></div><div class=\"wandb-col\"><h3>Run summary:</h3><br/><table class=\"wandb\"><tr><td>loss</td><td>1</td></tr></table><br/></div></div>"
      ],
      "text/plain": [
       "<IPython.core.display.HTML object>"
      ]
     },
     "metadata": {},
     "output_type": "display_data"
    },
    {
     "data": {
      "text/html": [
       " View run <strong style=\"color:#cdcd00\">recovering</strong> at: <a href='https://wandb.ai/kaleb-sofer-mlx/TwoTowers/runs/ux5yrivi' target=\"_blank\">https://wandb.ai/kaleb-sofer-mlx/TwoTowers/runs/ux5yrivi</a><br/> View project at: <a href='https://wandb.ai/kaleb-sofer-mlx/TwoTowers' target=\"_blank\">https://wandb.ai/kaleb-sofer-mlx/TwoTowers</a><br/>Synced 5 W&B file(s), 0 media file(s), 0 artifact file(s) and 0 other file(s)"
      ],
      "text/plain": [
       "<IPython.core.display.HTML object>"
      ]
     },
     "metadata": {},
     "output_type": "display_data"
    },
    {
     "data": {
      "text/html": [
       "Find logs at: <code>.\\wandb\\run-20241023_170116-ux5yrivi\\logs</code>"
      ],
      "text/plain": [
       "<IPython.core.display.HTML object>"
      ]
     },
     "metadata": {},
     "output_type": "display_data"
    },
    {
     "name": "stdout",
     "output_type": "stream",
     "text": [
      "Training complete.\n"
     ]
    }
   ],
   "source": [
    "margin = 1.0\n",
    "num_epochs = 3\n",
    "\n",
    "\n",
    "for epoch in range(num_epochs):\n",
    "    query_encoder.train()\n",
    "    doc_encoder.train()\n",
    "\n",
    "    total_loss = 0.0\n",
    "\n",
    "    for batch in training_data:\n",
    "        query, relevant, irrelevant = batch\n",
    "\n",
    "        query_encoded = query_encoder(query)\n",
    "        relevant_encoded = doc_encoder(relevant)\n",
    "        irrelevant_encoded = doc_encoder(irrelevant)\n",
    "\n",
    "        # Compute loss\n",
    "\n",
    "        loss = compute_triplet_loss(\n",
    "            query_encoded, relevant_encoded, irrelevant_encoded, margin\n",
    "        )\n",
    "\n",
    "        # Backpropagation\n",
    "        optimizer.zero_grad()\n",
    "        loss.backward()\n",
    "        optimizer.step()\n",
    "\n",
    "        wandb.log({\"loss\": loss.item()})\n",
    "\n",
    "    save_path = f\"RNN_epoch_{epoch}.pth\"\n",
    "    save_model(epoch, save_path)\n",
    "\n",
    "    print(f\"Epoch [{epoch+1}/{num_epochs}], Loss: {loss.item():.4f}\")\n",
    "\n",
    "\n",
    "wandb.finish()\n",
    "\n",
    "print(\"Training complete.\")"
   ]
  },
  {
   "cell_type": "code",
   "execution_count": null,
   "metadata": {},
   "outputs": [],
   "source": []
  },
  {
   "cell_type": "code",
   "execution_count": null,
   "metadata": {},
   "outputs": [],
   "source": []
  }
 ],
 "metadata": {
  "kernelspec": {
   "display_name": "env",
   "language": "python",
   "name": "python3"
  },
  "language_info": {
   "codemirror_mode": {
    "name": "ipython",
    "version": 3
   },
   "file_extension": ".py",
   "mimetype": "text/x-python",
   "name": "python",
   "nbconvert_exporter": "python",
   "pygments_lexer": "ipython3",
   "version": "3.12.4"
  }
 },
 "nbformat": 4,
 "nbformat_minor": 2
}
