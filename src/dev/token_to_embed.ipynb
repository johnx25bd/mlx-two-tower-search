{
 "cells": [
  {
   "cell_type": "code",
   "execution_count": 1,
   "metadata": {},
   "outputs": [],
   "source": [
    "import gensim\n",
    "import torch\n",
    "import numpy as np\n",
    "import torch.nn as nn\n",
    "import pandas as pd\n",
    "import os"
   ]
  },
  {
   "cell_type": "code",
   "execution_count": 2,
   "metadata": {},
   "outputs": [
    {
     "name": "stderr",
     "output_type": "stream",
     "text": [
      "[nltk_data] Downloading package stopwords to\n",
      "[nltk_data]     C:\\Users\\kaleb\\AppData\\Roaming\\nltk_data...\n",
      "[nltk_data]   Package stopwords is already up-to-date!\n",
      "[nltk_data] Downloading package punkt to\n",
      "[nltk_data]     C:\\Users\\kaleb\\AppData\\Roaming\\nltk_data...\n",
      "[nltk_data]   Package punkt is already up-to-date!\n"
     ]
    }
   ],
   "source": [
    "from src.utils.preprocess_str import preprocess_str"
   ]
  },
  {
   "cell_type": "code",
   "execution_count": 3,
   "metadata": {},
   "outputs": [],
   "source": [
    "# read data from data/processed/query_rel_doc.parquet\n",
    "file_path = os.path.join(\"data\", \"processed\", \"query_rel_doc.parquet\")\n",
    "df = pd.read_parquet(file_path)"
   ]
  },
  {
   "cell_type": "code",
   "execution_count": 4,
   "metadata": {},
   "outputs": [
    {
     "data": {
      "text/html": [
       "<div>\n",
       "<style scoped>\n",
       "    .dataframe tbody tr th:only-of-type {\n",
       "        vertical-align: middle;\n",
       "    }\n",
       "\n",
       "    .dataframe tbody tr th {\n",
       "        vertical-align: top;\n",
       "    }\n",
       "\n",
       "    .dataframe thead th {\n",
       "        text-align: right;\n",
       "    }\n",
       "</style>\n",
       "<table border=\"1\" class=\"dataframe\">\n",
       "  <thead>\n",
       "    <tr style=\"text-align: right;\">\n",
       "      <th></th>\n",
       "      <th>query</th>\n",
       "      <th>query_id</th>\n",
       "      <th>relevant_document</th>\n",
       "      <th>irrelevant_document</th>\n",
       "      <th>is_selected</th>\n",
       "    </tr>\n",
       "  </thead>\n",
       "  <tbody>\n",
       "    <tr>\n",
       "      <th>0</th>\n",
       "      <td>what is rba</td>\n",
       "      <td>19699</td>\n",
       "      <td>Since 2007, the RBA's outstanding reputation h...</td>\n",
       "      <td>Cover the grill again and allow to cook for an...</td>\n",
       "      <td>0</td>\n",
       "    </tr>\n",
       "    <tr>\n",
       "      <th>1</th>\n",
       "      <td>what is rba</td>\n",
       "      <td>19699</td>\n",
       "      <td>The Reserve Bank of Australia (RBA) came into ...</td>\n",
       "      <td>Submit. · just now. Report Abuse. cloud is vib...</td>\n",
       "      <td>0</td>\n",
       "    </tr>\n",
       "    <tr>\n",
       "      <th>2</th>\n",
       "      <td>what is rba</td>\n",
       "      <td>19699</td>\n",
       "      <td>RBA Recognized with the 2014 Microsoft US Regi...</td>\n",
       "      <td>Determining Flag Size. The length of the flag ...</td>\n",
       "      <td>0</td>\n",
       "    </tr>\n",
       "    <tr>\n",
       "      <th>3</th>\n",
       "      <td>what is rba</td>\n",
       "      <td>19699</td>\n",
       "      <td>The inner workings of a rebuildable atomizer a...</td>\n",
       "      <td>1 On average, a chair lift can cost anywhere f...</td>\n",
       "      <td>0</td>\n",
       "    </tr>\n",
       "    <tr>\n",
       "      <th>4</th>\n",
       "      <td>what is rba</td>\n",
       "      <td>19699</td>\n",
       "      <td>Results-Based Accountability® (also known as R...</td>\n",
       "      <td>n. A seismic wave that travels through the ear...</td>\n",
       "      <td>0</td>\n",
       "    </tr>\n",
       "    <tr>\n",
       "      <th>5</th>\n",
       "      <td>what is rba</td>\n",
       "      <td>19699</td>\n",
       "      <td>Results-Based Accountability® (also known as R...</td>\n",
       "      <td>Brief History of Maytag &amp; Washing Machine Inno...</td>\n",
       "      <td>1</td>\n",
       "    </tr>\n",
       "    <tr>\n",
       "      <th>6</th>\n",
       "      <td>what is rba</td>\n",
       "      <td>19699</td>\n",
       "      <td>RBA uses a data-driven, decision-making proces...</td>\n",
       "      <td>Function. The cardiac skeleton has four major ...</td>\n",
       "      <td>0</td>\n",
       "    </tr>\n",
       "    <tr>\n",
       "      <th>7</th>\n",
       "      <td>what is rba</td>\n",
       "      <td>19699</td>\n",
       "      <td>vs. NetIQ Identity Manager. Risk-based authent...</td>\n",
       "      <td>Types of counseling most often used to treat s...</td>\n",
       "      <td>0</td>\n",
       "    </tr>\n",
       "    <tr>\n",
       "      <th>8</th>\n",
       "      <td>what is rba</td>\n",
       "      <td>19699</td>\n",
       "      <td>A rebuildable atomizer (RBA), often referred t...</td>\n",
       "      <td>Most homeowners report spending between $3,675...</td>\n",
       "      <td>0</td>\n",
       "    </tr>\n",
       "    <tr>\n",
       "      <th>9</th>\n",
       "      <td>what is rba</td>\n",
       "      <td>19699</td>\n",
       "      <td>Get To Know Us. RBA is a digital and technolog...</td>\n",
       "      <td>Definition. Patellar tendinitis is an injury t...</td>\n",
       "      <td>0</td>\n",
       "    </tr>\n",
       "  </tbody>\n",
       "</table>\n",
       "</div>"
      ],
      "text/plain": [
       "         query  query_id                                  relevant_document  \\\n",
       "0  what is rba     19699  Since 2007, the RBA's outstanding reputation h...   \n",
       "1  what is rba     19699  The Reserve Bank of Australia (RBA) came into ...   \n",
       "2  what is rba     19699  RBA Recognized with the 2014 Microsoft US Regi...   \n",
       "3  what is rba     19699  The inner workings of a rebuildable atomizer a...   \n",
       "4  what is rba     19699  Results-Based Accountability® (also known as R...   \n",
       "5  what is rba     19699  Results-Based Accountability® (also known as R...   \n",
       "6  what is rba     19699  RBA uses a data-driven, decision-making proces...   \n",
       "7  what is rba     19699  vs. NetIQ Identity Manager. Risk-based authent...   \n",
       "8  what is rba     19699  A rebuildable atomizer (RBA), often referred t...   \n",
       "9  what is rba     19699  Get To Know Us. RBA is a digital and technolog...   \n",
       "\n",
       "                                 irrelevant_document  is_selected  \n",
       "0  Cover the grill again and allow to cook for an...            0  \n",
       "1  Submit. · just now. Report Abuse. cloud is vib...            0  \n",
       "2  Determining Flag Size. The length of the flag ...            0  \n",
       "3  1 On average, a chair lift can cost anywhere f...            0  \n",
       "4  n. A seismic wave that travels through the ear...            0  \n",
       "5  Brief History of Maytag & Washing Machine Inno...            1  \n",
       "6  Function. The cardiac skeleton has four major ...            0  \n",
       "7  Types of counseling most often used to treat s...            0  \n",
       "8  Most homeowners report spending between $3,675...            0  \n",
       "9  Definition. Patellar tendinitis is an injury t...            0  "
      ]
     },
     "execution_count": 4,
     "metadata": {},
     "output_type": "execute_result"
    }
   ],
   "source": [
    "df.head(10)"
   ]
  },
  {
   "cell_type": "code",
   "execution_count": 24,
   "metadata": {},
   "outputs": [],
   "source": [
    "dfa = df[[\"query_id\", \"query\", \"relevant_document\", \"irrelevant_document\"]].copy()\n",
    "dfa.reset_index(inplace=True)"
   ]
  },
  {
   "cell_type": "code",
   "execution_count": 25,
   "metadata": {},
   "outputs": [],
   "source": [
    "# convert the strings, from each column, into list of tokens\n",
    "dfa.loc[:, \"query_tokens\"] = dfa[\"query\"].apply(preprocess_str)\n",
    "dfa.loc[:, \"relevant_document_tokens\"] = dfa[\"relevant_document\"].apply(preprocess_str)\n",
    "dfa.loc[:, \"irrelevant_document_tokens\"] = dfa[\"irrelevant_document\"].apply(\n",
    "    preprocess_str\n",
    ")"
   ]
  },
  {
   "cell_type": "code",
   "execution_count": 26,
   "metadata": {},
   "outputs": [
    {
     "data": {
      "text/html": [
       "<div>\n",
       "<style scoped>\n",
       "    .dataframe tbody tr th:only-of-type {\n",
       "        vertical-align: middle;\n",
       "    }\n",
       "\n",
       "    .dataframe tbody tr th {\n",
       "        vertical-align: top;\n",
       "    }\n",
       "\n",
       "    .dataframe thead th {\n",
       "        text-align: right;\n",
       "    }\n",
       "</style>\n",
       "<table border=\"1\" class=\"dataframe\">\n",
       "  <thead>\n",
       "    <tr style=\"text-align: right;\">\n",
       "      <th></th>\n",
       "      <th>index</th>\n",
       "      <th>query_id</th>\n",
       "      <th>query</th>\n",
       "      <th>relevant_document</th>\n",
       "      <th>irrelevant_document</th>\n",
       "      <th>query_tokens</th>\n",
       "      <th>relevant_document_tokens</th>\n",
       "      <th>irrelevant_document_tokens</th>\n",
       "    </tr>\n",
       "  </thead>\n",
       "  <tbody>\n",
       "    <tr>\n",
       "      <th>0</th>\n",
       "      <td>0</td>\n",
       "      <td>19699</td>\n",
       "      <td>what is rba</td>\n",
       "      <td>Since 2007, the RBA's outstanding reputation h...</td>\n",
       "      <td>Cover the grill again and allow to cook for an...</td>\n",
       "      <td>[rba]</td>\n",
       "      <td>[sinc, rba, outstand, reput, affect, secur, np...</td>\n",
       "      <td>[cover, grill, allow, cook, anoth, minut, repe...</td>\n",
       "    </tr>\n",
       "    <tr>\n",
       "      <th>1</th>\n",
       "      <td>1</td>\n",
       "      <td>19699</td>\n",
       "      <td>what is rba</td>\n",
       "      <td>The Reserve Bank of Australia (RBA) came into ...</td>\n",
       "      <td>Submit. · just now. Report Abuse. cloud is vib...</td>\n",
       "      <td>[rba]</td>\n",
       "      <td>[reserv, bank, australia, rba, came, januari, ...</td>\n",
       "      <td>[submit, report, abus, cloud, vibrat, waterit,...</td>\n",
       "    </tr>\n",
       "    <tr>\n",
       "      <th>2</th>\n",
       "      <td>2</td>\n",
       "      <td>19699</td>\n",
       "      <td>what is rba</td>\n",
       "      <td>RBA Recognized with the 2014 Microsoft US Regi...</td>\n",
       "      <td>Determining Flag Size. The length of the flag ...</td>\n",
       "      <td>[rba]</td>\n",
       "      <td>[rba, recogn, microsoft, us, region, partner, ...</td>\n",
       "      <td>[determin, flag, size, length, flag, least, on...</td>\n",
       "    </tr>\n",
       "    <tr>\n",
       "      <th>3</th>\n",
       "      <td>3</td>\n",
       "      <td>19699</td>\n",
       "      <td>what is rba</td>\n",
       "      <td>The inner workings of a rebuildable atomizer a...</td>\n",
       "      <td>1 On average, a chair lift can cost anywhere f...</td>\n",
       "      <td>[rba]</td>\n",
       "      <td>[inner, work, rebuild, atom, surprisingli, sim...</td>\n",
       "      <td>[averag, chair, lift, cost, anywher, much, wou...</td>\n",
       "    </tr>\n",
       "    <tr>\n",
       "      <th>4</th>\n",
       "      <td>4</td>\n",
       "      <td>19699</td>\n",
       "      <td>what is rba</td>\n",
       "      <td>Results-Based Accountability® (also known as R...</td>\n",
       "      <td>n. A seismic wave that travels through the ear...</td>\n",
       "      <td>[rba]</td>\n",
       "      <td>[resultsbas, account, also, known, rba, discip...</td>\n",
       "      <td>[seismic, wave, travel, earth, rather, across,...</td>\n",
       "    </tr>\n",
       "  </tbody>\n",
       "</table>\n",
       "</div>"
      ],
      "text/plain": [
       "   index  query_id        query  \\\n",
       "0      0     19699  what is rba   \n",
       "1      1     19699  what is rba   \n",
       "2      2     19699  what is rba   \n",
       "3      3     19699  what is rba   \n",
       "4      4     19699  what is rba   \n",
       "\n",
       "                                   relevant_document  \\\n",
       "0  Since 2007, the RBA's outstanding reputation h...   \n",
       "1  The Reserve Bank of Australia (RBA) came into ...   \n",
       "2  RBA Recognized with the 2014 Microsoft US Regi...   \n",
       "3  The inner workings of a rebuildable atomizer a...   \n",
       "4  Results-Based Accountability® (also known as R...   \n",
       "\n",
       "                                 irrelevant_document query_tokens  \\\n",
       "0  Cover the grill again and allow to cook for an...        [rba]   \n",
       "1  Submit. · just now. Report Abuse. cloud is vib...        [rba]   \n",
       "2  Determining Flag Size. The length of the flag ...        [rba]   \n",
       "3  1 On average, a chair lift can cost anywhere f...        [rba]   \n",
       "4  n. A seismic wave that travels through the ear...        [rba]   \n",
       "\n",
       "                            relevant_document_tokens  \\\n",
       "0  [sinc, rba, outstand, reput, affect, secur, np...   \n",
       "1  [reserv, bank, australia, rba, came, januari, ...   \n",
       "2  [rba, recogn, microsoft, us, region, partner, ...   \n",
       "3  [inner, work, rebuild, atom, surprisingli, sim...   \n",
       "4  [resultsbas, account, also, known, rba, discip...   \n",
       "\n",
       "                          irrelevant_document_tokens  \n",
       "0  [cover, grill, allow, cook, anoth, minut, repe...  \n",
       "1  [submit, report, abus, cloud, vibrat, waterit,...  \n",
       "2  [determin, flag, size, length, flag, least, on...  \n",
       "3  [averag, chair, lift, cost, anywher, much, wou...  \n",
       "4  [seismic, wave, travel, earth, rather, across,...  "
      ]
     },
     "execution_count": 26,
     "metadata": {},
     "output_type": "execute_result"
    }
   ],
   "source": [
    "dfa.head(5)"
   ]
  },
  {
   "cell_type": "code",
   "execution_count": null,
   "metadata": {},
   "outputs": [],
   "source": [
    "# save to data/processed/query_rel_doc_tokens.parquet\n",
    "file_path = os.path.join(\"data\", \"processed\", \"query_rel_doc_tokens.parquet\")\n",
    "dfa.to_parquet(file_path)"
   ]
  },
  {
   "cell_type": "code",
   "execution_count": 27,
   "metadata": {},
   "outputs": [
    {
     "name": "stdout",
     "output_type": "stream",
     "text": [
      "torch.Size([74792, 100])\n"
     ]
    }
   ],
   "source": [
    "# get embeddings for each token in the dataframe\n",
    "w2v = gensim.models.Word2Vec.load(\n",
    "    \"src/models/word2vec-gensim-text8-custom-preprocess.model\"\n",
    ")\n",
    "\n",
    "vocab = w2v.wv.index_to_key\n",
    "word_to_idx = {word: i for i, word in enumerate(vocab)}\n",
    "embeddings_array = np.array([w2v.wv[word] for word in vocab])\n",
    "embeddings = torch.tensor(embeddings_array, dtype=torch.float32)\n",
    "print(embeddings.shape)\n",
    "\n",
    "embedding_layer = nn.Embedding.from_pretrained(embeddings, freeze=True)\n",
    "# word_index = torch.tensor([word_to_idx['north']], dtype=torch.long)"
   ]
  },
  {
   "cell_type": "code",
   "execution_count": 28,
   "metadata": {},
   "outputs": [
    {
     "data": {
      "text/plain": [
       "tensor([[-0.0706,  0.0265,  0.0331,  0.0277,  0.0544, -0.0174,  0.0143,  0.0584,\n",
       "         -0.0007, -0.0526,  0.0089, -0.0053, -0.0213, -0.0008,  0.0012,  0.0245,\n",
       "          0.0008, -0.0297, -0.0015, -0.0272, -0.0457, -0.0396,  0.0480, -0.0143,\n",
       "          0.0252, -0.0490, -0.0792,  0.0075, -0.0342,  0.0052, -0.0287,  0.0002,\n",
       "         -0.0270, -0.0292, -0.0008,  0.0186, -0.0223, -0.0193,  0.0210, -0.0210,\n",
       "         -0.0023, -0.0083, -0.0468, -0.0091,  0.0039,  0.0252, -0.0277,  0.0018,\n",
       "         -0.0053,  0.0064,  0.0097, -0.0421, -0.0847,  0.0159, -0.0606, -0.0179,\n",
       "          0.0288,  0.0450, -0.0305, -0.0109, -0.0007,  0.0525,  0.0515, -0.0364,\n",
       "         -0.0474,  0.0215,  0.0165,  0.0318, -0.0316, -0.0149,  0.0081,  0.0473,\n",
       "         -0.0088,  0.0070,  0.0129, -0.0212, -0.0057, -0.0211, -0.0427, -0.0130,\n",
       "          0.0040,  0.0112,  0.0151,  0.0323,  0.0235,  0.0425,  0.0254,  0.0153,\n",
       "          0.0172,  0.0416,  0.0062,  0.0265,  0.0135,  0.0591,  0.0194,  0.0090,\n",
       "         -0.0269,  0.0012, -0.0359,  0.0008]])"
      ]
     },
     "execution_count": 28,
     "metadata": {},
     "output_type": "execute_result"
    }
   ],
   "source": [
    "word_index = torch.tensor([word_to_idx[\"rba\"]], dtype=torch.long)\n",
    "# look at an example embedding\n",
    "\n",
    "embedding_layer(word_index)"
   ]
  },
  {
   "cell_type": "code",
   "execution_count": 29,
   "metadata": {},
   "outputs": [
    {
     "data": {
      "text/plain": [
       "74792"
      ]
     },
     "execution_count": 29,
     "metadata": {},
     "output_type": "execute_result"
    }
   ],
   "source": [
    "len(word_to_idx)"
   ]
  },
  {
   "cell_type": "code",
   "execution_count": 30,
   "metadata": {},
   "outputs": [],
   "source": [
    "def embed_tokens(tokens: list[str], unknown_tokens: set):\n",
    "    valid_tokens = [token for token in tokens if token in word_to_idx]\n",
    "    unknown_tokens.update(set(tokens) - set(valid_tokens))\n",
    "    if valid_tokens:\n",
    "        return (\n",
    "            embedding_layer(\n",
    "                torch.tensor(\n",
    "                    [word_to_idx[token] for token in valid_tokens], dtype=torch.long\n",
    "                )\n",
    "            ),\n",
    "            unknown_tokens,\n",
    "        )\n",
    "    return torch.tensor([])"
   ]
  },
  {
   "cell_type": "code",
   "execution_count": 31,
   "metadata": {},
   "outputs": [],
   "source": [
    "unknown_tokens = set()\n",
    "\n",
    "dfa.loc[:, \"query_embedding\"] = dfa[\"query_tokens\"].apply(\n",
    "    embed_tokens, args=(unknown_tokens,)\n",
    ")\n",
    "dfa.loc[:, \"relevant_document_embedding\"] = dfa[\"relevant_document_tokens\"].apply(\n",
    "    embed_tokens, args=(unknown_tokens,)\n",
    ")\n",
    "dfa.loc[:, \"irrelevant_document_embedding\"] = dfa[\"irrelevant_document_tokens\"].apply(\n",
    "    embed_tokens, args=(unknown_tokens,)\n",
    ")"
   ]
  },
  {
   "cell_type": "code",
   "execution_count": 34,
   "metadata": {},
   "outputs": [],
   "source": [
    "# Remove rows with empty embeddings\n",
    "dfb = dfa[\n",
    "    dfa[\"query_embedding\"].apply(\n",
    "        lambda x: len(x[0]) > 0 if isinstance(x, tuple) else len(x) > 0\n",
    "    )\n",
    "    & dfa[\"relevant_document_embedding\"].apply(\n",
    "        lambda x: len(x[0]) > 0 if isinstance(x, tuple) else len(x) > 0\n",
    "    )\n",
    "    & dfa[\"irrelevant_document_embedding\"].apply(\n",
    "        lambda x: len(x[0]) > 0 if isinstance(x, tuple) else len(x) > 0\n",
    "    )\n",
    "]"
   ]
  },
  {
   "cell_type": "code",
   "execution_count": 37,
   "metadata": {},
   "outputs": [
    {
     "name": "stdout",
     "output_type": "stream",
     "text": [
      "Number of unknown tokens: 2017\n",
      "Unknown tokens: ['newsyou', 'ntact', 'bodyinvoluntari', 'baristaqu', 'ual', 'ouldin', 'granitelik', 'enterica', 'elastin', 'sma']\n"
     ]
    }
   ],
   "source": [
    "# print the number of unknown tokens\n",
    "print(f\"Number of unknown tokens: {len(unknown_tokens)}\")\n",
    "# print the first 10 unknown tokens\n",
    "print(f\"Unknown tokens: {list(unknown_tokens)[:10]}\")"
   ]
  },
  {
   "cell_type": "code",
   "execution_count": 38,
   "metadata": {},
   "outputs": [
    {
     "data": {
      "text/html": [
       "<div>\n",
       "<style scoped>\n",
       "    .dataframe tbody tr th:only-of-type {\n",
       "        vertical-align: middle;\n",
       "    }\n",
       "\n",
       "    .dataframe tbody tr th {\n",
       "        vertical-align: top;\n",
       "    }\n",
       "\n",
       "    .dataframe thead th {\n",
       "        text-align: right;\n",
       "    }\n",
       "</style>\n",
       "<table border=\"1\" class=\"dataframe\">\n",
       "  <thead>\n",
       "    <tr style=\"text-align: right;\">\n",
       "      <th></th>\n",
       "      <th>query_id</th>\n",
       "      <th>query_embedding</th>\n",
       "      <th>relevant_document_embedding</th>\n",
       "      <th>irrelevant_document_embedding</th>\n",
       "    </tr>\n",
       "  </thead>\n",
       "  <tbody>\n",
       "    <tr>\n",
       "      <th>0</th>\n",
       "      <td>19699</td>\n",
       "      <td>([[tensor(-0.0706), tensor(0.0265), tensor(0.0...</td>\n",
       "      <td>([[tensor(0.4154), tensor(-0.2829), tensor(-1....</td>\n",
       "      <td>([[tensor(1.0163), tensor(0.9083), tensor(0.62...</td>\n",
       "    </tr>\n",
       "  </tbody>\n",
       "</table>\n",
       "</div>"
      ],
      "text/plain": [
       "   query_id                                    query_embedding  \\\n",
       "0     19699  ([[tensor(-0.0706), tensor(0.0265), tensor(0.0...   \n",
       "\n",
       "                         relevant_document_embedding  \\\n",
       "0  ([[tensor(0.4154), tensor(-0.2829), tensor(-1....   \n",
       "\n",
       "                       irrelevant_document_embedding  \n",
       "0  ([[tensor(1.0163), tensor(0.9083), tensor(0.62...  "
      ]
     },
     "execution_count": 38,
     "metadata": {},
     "output_type": "execute_result"
    }
   ],
   "source": [
    "dfb[\n",
    "    [\n",
    "        \"query_id\",\n",
    "        \"query_embedding\",\n",
    "        \"relevant_document_embedding\",\n",
    "        \"irrelevant_document_embedding\",\n",
    "    ]\n",
    "].head(1)"
   ]
  }
 ],
 "metadata": {
  "kernelspec": {
   "display_name": "env",
   "language": "python",
   "name": "python3"
  },
  "language_info": {
   "codemirror_mode": {
    "name": "ipython",
    "version": 3
   },
   "file_extension": ".py",
   "mimetype": "text/x-python",
   "name": "python",
   "nbconvert_exporter": "python",
   "pygments_lexer": "ipython3",
   "version": "3.12.4"
  }
 },
 "nbformat": 4,
 "nbformat_minor": 2
}
