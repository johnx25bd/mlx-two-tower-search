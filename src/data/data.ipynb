{
 "cells": [
  {
   "cell_type": "markdown",
   "metadata": {},
   "source": [
    "# Prepare data for training"
   ]
  },
  {
   "cell_type": "code",
   "execution_count": 86,
   "metadata": {},
   "outputs": [],
   "source": [
    "import pandas as pd\n",
    "from datasets import load_dataset"
   ]
  },
  {
   "cell_type": "code",
   "execution_count": 87,
   "metadata": {},
   "outputs": [],
   "source": [
    "data = load_dataset('ms_marco', 'v1.1')"
   ]
  },
  {
   "cell_type": "code",
   "execution_count": 88,
   "metadata": {},
   "outputs": [],
   "source": [
    "df_train_raw = pd.DataFrame(data['train'])\n",
    "df_validation_raw = pd.DataFrame(data['validation'])\n",
    "df_test_raw = pd.DataFrame(data['test'])\n"
   ]
  },
  {
   "cell_type": "code",
   "execution_count": 89,
   "metadata": {},
   "outputs": [],
   "source": [
    "def unwrap_passages(row: pd.Series) -> pd.DataFrame:\n",
    "  df_psg = pd.DataFrame(row['passages'])\n",
    "  df_psg['query'] = row['query']\n",
    "  df_psg['query_id'] = row['query_id']\n",
    "  df_psg['query_type'] = row['query_type']\n",
    "\n",
    "  return df_psg\n"
   ]
  },
  {
   "cell_type": "code",
   "execution_count": 90,
   "metadata": {},
   "outputs": [],
   "source": [
    "def unwrap_dataframe(df: pd.DataFrame) -> pd.DataFrame:\n",
    "    chunks = []\n",
    "    for _, row in df.iterrows():\n",
    "        chunks.append(unwrap_passages(row))\n",
    "    df_out = pd.concat(chunks).reset_index(drop=True)\n",
    "    df_out.rename(columns={'passage_text': 'doc_relevant', 'url': 'url_relevant'}, inplace=True)\n",
    "    df_out['relevance'] = df_out['is_selected'] + 1\n",
    "    return df_out\n",
    "    # TODO: vectorize this, do it much faster\n",
    "\n"
   ]
  },
  {
   "cell_type": "code",
   "execution_count": 91,
   "metadata": {},
   "outputs": [],
   "source": [
    "df_train = unwrap_dataframe(df_train_raw)\n",
    "df_validation = unwrap_dataframe(df_validation_raw)\n",
    "df_test = unwrap_dataframe(df_test_raw)"
   ]
  },
  {
   "cell_type": "code",
   "execution_count": 92,
   "metadata": {},
   "outputs": [
    {
     "data": {
      "text/html": [
       "<div>\n",
       "<style scoped>\n",
       "    .dataframe tbody tr th:only-of-type {\n",
       "        vertical-align: middle;\n",
       "    }\n",
       "\n",
       "    .dataframe tbody tr th {\n",
       "        vertical-align: top;\n",
       "    }\n",
       "\n",
       "    .dataframe thead th {\n",
       "        text-align: right;\n",
       "    }\n",
       "</style>\n",
       "<table border=\"1\" class=\"dataframe\">\n",
       "  <thead>\n",
       "    <tr style=\"text-align: right;\">\n",
       "      <th></th>\n",
       "      <th>is_selected</th>\n",
       "      <th>doc_relevant</th>\n",
       "      <th>url_relevant</th>\n",
       "      <th>query</th>\n",
       "      <th>query_id</th>\n",
       "      <th>query_type</th>\n",
       "      <th>relevance</th>\n",
       "    </tr>\n",
       "  </thead>\n",
       "  <tbody>\n",
       "    <tr>\n",
       "      <th>0</th>\n",
       "      <td>0</td>\n",
       "      <td>Since 2007, the RBA's outstanding reputation h...</td>\n",
       "      <td>https://en.wikipedia.org/wiki/Reserve_Bank_of_...</td>\n",
       "      <td>what is rba</td>\n",
       "      <td>19699</td>\n",
       "      <td>description</td>\n",
       "      <td>1</td>\n",
       "    </tr>\n",
       "    <tr>\n",
       "      <th>1</th>\n",
       "      <td>0</td>\n",
       "      <td>The Reserve Bank of Australia (RBA) came into ...</td>\n",
       "      <td>https://en.wikipedia.org/wiki/Reserve_Bank_of_...</td>\n",
       "      <td>what is rba</td>\n",
       "      <td>19699</td>\n",
       "      <td>description</td>\n",
       "      <td>1</td>\n",
       "    </tr>\n",
       "  </tbody>\n",
       "</table>\n",
       "</div>"
      ],
      "text/plain": [
       "   is_selected                                       doc_relevant  \\\n",
       "0            0  Since 2007, the RBA's outstanding reputation h...   \n",
       "1            0  The Reserve Bank of Australia (RBA) came into ...   \n",
       "\n",
       "                                        url_relevant        query  query_id  \\\n",
       "0  https://en.wikipedia.org/wiki/Reserve_Bank_of_...  what is rba     19699   \n",
       "1  https://en.wikipedia.org/wiki/Reserve_Bank_of_...  what is rba     19699   \n",
       "\n",
       "    query_type  relevance  \n",
       "0  description          1  \n",
       "1  description          1  "
      ]
     },
     "execution_count": 92,
     "metadata": {},
     "output_type": "execute_result"
    }
   ],
   "source": [
    "df_train.head(2)"
   ]
  },
  {
   "cell_type": "code",
   "execution_count": 93,
   "metadata": {},
   "outputs": [],
   "source": [
    "df_train[['doc_irrelevant', 'url_irrelevant']] = df_train[['doc_relevant', 'url_relevant']].sample(n=len(df_train), replace=True).reset_index(drop=True)\n",
    "df_validation[['doc_irrelevant', 'url_irrelevant']] = df_validation[['doc_relevant', 'url_relevant']].sample(n=len(df_validation), replace=True).reset_index(drop=True)\n",
    "df_test[['doc_irrelevant', 'url_irrelevant']] = df_test[['doc_relevant', 'url_relevant']].sample(n=len(df_test), replace=True).reset_index(drop=True)\n",
    "\n"
   ]
  },
  {
   "cell_type": "code",
   "execution_count": 94,
   "metadata": {},
   "outputs": [
    {
     "data": {
      "text/html": [
       "<div>\n",
       "<style scoped>\n",
       "    .dataframe tbody tr th:only-of-type {\n",
       "        vertical-align: middle;\n",
       "    }\n",
       "\n",
       "    .dataframe tbody tr th {\n",
       "        vertical-align: top;\n",
       "    }\n",
       "\n",
       "    .dataframe thead th {\n",
       "        text-align: right;\n",
       "    }\n",
       "</style>\n",
       "<table border=\"1\" class=\"dataframe\">\n",
       "  <thead>\n",
       "    <tr style=\"text-align: right;\">\n",
       "      <th></th>\n",
       "      <th>is_selected</th>\n",
       "      <th>doc_relevant</th>\n",
       "      <th>url_relevant</th>\n",
       "      <th>query</th>\n",
       "      <th>query_id</th>\n",
       "      <th>query_type</th>\n",
       "      <th>relevance</th>\n",
       "      <th>doc_irrelevant</th>\n",
       "      <th>url_irrelevant</th>\n",
       "    </tr>\n",
       "  </thead>\n",
       "  <tbody>\n",
       "    <tr>\n",
       "      <th>0</th>\n",
       "      <td>0</td>\n",
       "      <td>Since 2007, the RBA's outstanding reputation h...</td>\n",
       "      <td>https://en.wikipedia.org/wiki/Reserve_Bank_of_...</td>\n",
       "      <td>what is rba</td>\n",
       "      <td>19699</td>\n",
       "      <td>description</td>\n",
       "      <td>1</td>\n",
       "      <td>Nope! The only difference between brown eggs &amp;...</td>\n",
       "      <td>http://www.answers.com/Q/Do_brown_eggs_have_th...</td>\n",
       "    </tr>\n",
       "    <tr>\n",
       "      <th>1</th>\n",
       "      <td>0</td>\n",
       "      <td>The Reserve Bank of Australia (RBA) came into ...</td>\n",
       "      <td>https://en.wikipedia.org/wiki/Reserve_Bank_of_...</td>\n",
       "      <td>what is rba</td>\n",
       "      <td>19699</td>\n",
       "      <td>description</td>\n",
       "      <td>1</td>\n",
       "      <td>Non-metals are the elements in groups 14-16 of...</td>\n",
       "      <td>http://www.chemicalelements.com/groups/nonmeta...</td>\n",
       "    </tr>\n",
       "  </tbody>\n",
       "</table>\n",
       "</div>"
      ],
      "text/plain": [
       "   is_selected                                       doc_relevant  \\\n",
       "0            0  Since 2007, the RBA's outstanding reputation h...   \n",
       "1            0  The Reserve Bank of Australia (RBA) came into ...   \n",
       "\n",
       "                                        url_relevant        query  query_id  \\\n",
       "0  https://en.wikipedia.org/wiki/Reserve_Bank_of_...  what is rba     19699   \n",
       "1  https://en.wikipedia.org/wiki/Reserve_Bank_of_...  what is rba     19699   \n",
       "\n",
       "    query_type  relevance                                     doc_irrelevant  \\\n",
       "0  description          1  Nope! The only difference between brown eggs &...   \n",
       "1  description          1  Non-metals are the elements in groups 14-16 of...   \n",
       "\n",
       "                                      url_irrelevant  \n",
       "0  http://www.answers.com/Q/Do_brown_eggs_have_th...  \n",
       "1  http://www.chemicalelements.com/groups/nonmeta...  "
      ]
     },
     "execution_count": 94,
     "metadata": {},
     "output_type": "execute_result"
    }
   ],
   "source": [
    "df_train.head(2)"
   ]
  },
  {
   "cell_type": "code",
   "execution_count": 95,
   "metadata": {},
   "outputs": [],
   "source": [
    "save_cols = ['doc_relevant', 'url_relevant', 'doc_irrelevant', 'url_irrelevant', 'query', 'query_id', 'query_type', 'relevance']"
   ]
  },
  {
   "cell_type": "code",
   "execution_count": 96,
   "metadata": {},
   "outputs": [],
   "source": [
    "df_train[save_cols].to_parquet('./training.parquet')\n",
    "df_validation[save_cols].to_parquet('./validation.parquet')\n",
    "df_test[save_cols].to_parquet('./test.parquet')\n"
   ]
  }
 ],
 "metadata": {
  "kernelspec": {
   "display_name": "env",
   "language": "python",
   "name": "python3"
  },
  "language_info": {
   "codemirror_mode": {
    "name": "ipython",
    "version": 3
   },
   "file_extension": ".py",
   "mimetype": "text/x-python",
   "name": "python",
   "nbconvert_exporter": "python",
   "pygments_lexer": "ipython3",
   "version": "3.12.7"
  }
 },
 "nbformat": 4,
 "nbformat_minor": 2
}
